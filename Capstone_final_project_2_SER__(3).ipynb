{
  "cells": [
    {
      "cell_type": "code",
      "execution_count": null,
      "metadata": {
        "id": "i9SfcKOYd0IJ"
      },
      "outputs": [],
      "source": [
        "import glob\n",
        "import os\n",
        "import librosa\n",
        "import time\n",
        "import numpy as np\n",
        "import pandas as pd\n"
      ]
    },
    {
      "cell_type": "code",
      "execution_count": null,
      "metadata": {
        "colab": {
          "base_uri": "https://localhost:8080/"
        },
        "id": "jREWIIXznzH0",
        "outputId": "3162a2da-c008-47a2-ddf7-29374fe5c9c8"
      },
      "outputs": [
        {
          "output_type": "stream",
          "name": "stdout",
          "text": [
            "Mounted at /content/drive\n"
          ]
        }
      ],
      "source": [
        "from google.colab import drive\n",
        "drive.mount('/content/drive')"
      ]
    },
    {
      "cell_type": "code",
      "execution_count": null,
      "metadata": {
        "id": "PgP6JbDjeDXr"
      },
      "outputs": [],
      "source": [
        "emotions={\n",
        "  '01':'neutral'\n",
        "  ,\n",
        "  '02':'calm',\n",
        "  '03':'happy',\n",
        "  '04':'sad',\n",
        "  '05':'angry',\n",
        "  '06':'fear',\n",
        "  '07':'disgust',\n",
        "  '08':'surprised'\n",
        "}\n",
        "\n",
        "\n",
        "tess_emotions=['angry','disgust','fear','ps','happy','sad']\n",
        "\n",
        "\n",
        "ravdess_emotions=['neutral','calm','angry', 'happy','disgust','sad','fear','surprised']\n",
        "\n",
        "observed_emotions = ['sad','angry','happy','disgust','surprised','neutral','calm','fear']\n",
        "#observed_emotions = ['sad','happy']"
      ]
    },
    {
      "cell_type": "code",
      "execution_count": null,
      "metadata": {
        "id": "DlSX0jYZk6mC"
      },
      "outputs": [],
      "source": [
        "def extract_feature(file_name, mfcc):\n",
        "    X, sample_rate = librosa.load(os.path.join(file_name), res_type='kaiser_fast')\n",
        "    if mfcc:\n",
        "        mfccs=np.mean(librosa.feature.mfcc(y=X, sr=sample_rate, n_mfcc=40).T, axis=0)\n",
        "        result=np.hstack((mfccs))\n",
        "        return result\n",
        "    else:\n",
        "        return None"
      ]
    },
    {
      "cell_type": "code",
      "execution_count": null,
      "metadata": {
        "id": "lbRbR0Qnk9Q6"
      },
      "outputs": [],
      "source": [
        "def dataset_options():\n",
        "    # choose datasets\n",
        "    ravdess = True\n",
        "    tess = True\n",
        "    ravdess_speech = False\n",
        "    ravdess_song = False\n",
        "    data = {'ravdess':ravdess, 'ravdess_speech':ravdess_speech, 'ravdess_song':ravdess_song, 'tess':tess}\n",
        "    print(data)\n",
        "    return data"
      ]
    },
    {
      "cell_type": "code",
      "execution_count": null,
      "metadata": {
        "id": "77U7XL02lAnv"
      },
      "outputs": [],
      "source": [
        "def load_data(test_size=0.2):\n",
        "    x,y=[],[]\n",
        "\n",
        "    # feature to extract\n",
        "    mfcc = True\n",
        "\n",
        "    data = dataset_options()\n",
        "    paths = []\n",
        "    if data['ravdess']:\n",
        "\n",
        "        # paths.append(\"kaggle/input/ravdess-emotional-*/audio_*_actors_01-24/*/Actor_*/*.wav\")\n",
        "        paths.append(\"/content/drive/MyDrive/data/wav/*/Actor_*/*.wav\")\n",
        "\n",
        "    elif data['ravdess_speech']:\n",
        "        #paths.append(\"kaggle/input/ravdess-emotional-speech-audio/audio_speech_actors_01-24/Actor_*/*.wav\")\n",
        "        paths.append(\"/content/drive/MyDrive/data/wav/audio_speech_actors_01-24/Actor_*/*.wav\")\n",
        "\n",
        "    elif data['ravdess_song']:\n",
        "        #paths.append(\"kaggle/input/ravdess-emotional-song-audio/audio_song_actors_01-24/Actor_*/*.wav\")\n",
        "        paths.append(\"/content/drive/MyDrive/data/wav/Ravdess_song/Actor_*/*.wav\")\n",
        "\n",
        "    for path in paths:\n",
        "        for file in glob.glob(path):\n",
        "            file_name=os.path.basename(file)\n",
        "            emotion=emotions[file_name.split(\"-\")[2]] #to get emotion according to filename. dictionary emotions is defined above.\n",
        "            if emotion not in observed_emotions: #options observed_emotions - RAVDESS and TESS, ravdess_emotions for RAVDESS only\n",
        "                continue\n",
        "            feature=extract_feature(file, mfcc)\n",
        "            x.append(feature)\n",
        "            y.append(emotion)\n",
        "    if data['tess']:\n",
        "        for file in glob.glob(\"/content/drive/MyDrive/data/TESS Toronto emotional speech set data/*AF_*/*.wav\"):\n",
        "            file_name=os.path.basename(file)\n",
        "            emotion=file_name.split(\"_\")[2][:-4] #split and remove .wav\n",
        "            if emotion == 'ps':\n",
        "                emotion = 'surprised'\n",
        "            if emotion not in observed_emotions: #options observed_emotions - RAVDESS and TESS, ravdess_emotions for RAVDESS only\n",
        "                continue\n",
        "            feature=extract_feature(file, mfcc)\n",
        "            x.append(feature)\n",
        "            y.append(emotion)\n",
        "    return {\"X\":x,\"y\":y}"
      ]
    },
    {
      "cell_type": "code",
      "execution_count": null,
      "metadata": {
        "id": "FEji4kYOH9zi"
      },
      "outputs": [],
      "source": []
    },
    {
      "cell_type": "code",
      "execution_count": null,
      "metadata": {
        "colab": {
          "base_uri": "https://localhost:8080/"
        },
        "id": "zamNscRjnFzC",
        "outputId": "44a7329c-e601-4e68-f7a0-62f78be086cc"
      },
      "outputs": [
        {
          "output_type": "stream",
          "name": "stdout",
          "text": [
            "Collecting resampy\n",
            "  Downloading resampy-0.4.2-py3-none-any.whl (3.1 MB)\n",
            "\u001b[2K     \u001b[90m━━━━━━━━━━━━━━━━━━━━━━━━━━━━━━━━━━━━━━━━\u001b[0m \u001b[32m3.1/3.1 MB\u001b[0m \u001b[31m10.3 MB/s\u001b[0m eta \u001b[36m0:00:00\u001b[0m\n",
            "\u001b[?25hRequirement already satisfied: numpy>=1.17 in /usr/local/lib/python3.10/dist-packages (from resampy) (1.25.2)\n",
            "Requirement already satisfied: numba>=0.53 in /usr/local/lib/python3.10/dist-packages (from resampy) (0.58.1)\n",
            "Requirement already satisfied: llvmlite<0.42,>=0.41.0dev0 in /usr/local/lib/python3.10/dist-packages (from numba>=0.53->resampy) (0.41.1)\n",
            "Installing collected packages: resampy\n",
            "Successfully installed resampy-0.4.2\n"
          ]
        }
      ],
      "source": [
        "\n",
        "pip install resampy"
      ]
    },
    {
      "cell_type": "code",
      "execution_count": null,
      "metadata": {
        "colab": {
          "base_uri": "https://localhost:8080/"
        },
        "id": "LIjBv9Q6m2St",
        "outputId": "7d15df25-895f-4f4c-abc9-954d0c8a623c"
      },
      "outputs": [
        {
          "output_type": "stream",
          "name": "stdout",
          "text": [
            "{'ravdess': True, 'ravdess_speech': False, 'ravdess_song': False, 'tess': True}\n",
            "--- Data loaded. Loading time: 0.0026807785034179688 seconds ---\n"
          ]
        }
      ],
      "source": [
        "start_time = time.time()\n",
        "\n",
        "Trial_dict = load_data(test_size = 0.3)\n",
        "\n",
        "print(\"--- Data loaded. Loading time: %s seconds ---\" % (time.time() - start_time))"
      ]
    },
    {
      "cell_type": "code",
      "execution_count": null,
      "metadata": {
        "id": "QKBlJdC5W91K"
      },
      "outputs": [],
      "source": []
    },
    {
      "cell_type": "code",
      "execution_count": null,
      "metadata": {
        "id": "6paxaEfhW-Xq"
      },
      "outputs": [],
      "source": []
    },
    {
      "cell_type": "code",
      "execution_count": null,
      "metadata": {
        "id": "1ySTj1s7m8Ix"
      },
      "outputs": [],
      "source": [
        "X = pd.DataFrame(Trial_dict[\"X\"])\n",
        "y = pd.DataFrame(Trial_dict[\"y\"])"
      ]
    },
    {
      "cell_type": "code",
      "execution_count": null,
      "metadata": {
        "colab": {
          "base_uri": "https://localhost:8080/"
        },
        "id": "fq-1BK7-BpDy",
        "outputId": "b835df45-5b0b-49ab-8c03-eab93be8f519"
      },
      "outputs": [
        {
          "output_type": "execute_result",
          "data": {
            "text/plain": [
              "((0, 0), (0, 0))"
            ]
          },
          "metadata": {},
          "execution_count": 12
        }
      ],
      "source": [
        "X.shape, y.shape"
      ]
    },
    {
      "cell_type": "code",
      "execution_count": null,
      "metadata": {
        "id": "g3H40KX-G6_x"
      },
      "outputs": [],
      "source": [
        "#renaming the label column to emotion\n",
        "y=y.rename(columns= {0: 'emotion'})"
      ]
    },
    {
      "cell_type": "code",
      "execution_count": null,
      "metadata": {
        "id": "8AYZmdcjG_N6"
      },
      "outputs": [],
      "source": [
        "#concatinating the attributes and label into a single dataframe\n",
        "data = pd.concat([X, y], axis =1)"
      ]
    },
    {
      "cell_type": "code",
      "execution_count": null,
      "metadata": {
        "colab": {
          "base_uri": "https://localhost:8080/",
          "height": 53
        },
        "id": "r5qLPstyHBw0",
        "outputId": "bf4b1db5-46eb-4b0b-c4b3-817b398a6ab4"
      },
      "outputs": [
        {
          "output_type": "execute_result",
          "data": {
            "text/plain": [
              "Empty DataFrame\n",
              "Columns: []\n",
              "Index: []"
            ],
            "text/html": [
              "\n",
              "  <div id=\"df-c844bc55-b8e3-4c4e-9957-32a2d64a0e41\" class=\"colab-df-container\">\n",
              "    <div>\n",
              "<style scoped>\n",
              "    .dataframe tbody tr th:only-of-type {\n",
              "        vertical-align: middle;\n",
              "    }\n",
              "\n",
              "    .dataframe tbody tr th {\n",
              "        vertical-align: top;\n",
              "    }\n",
              "\n",
              "    .dataframe thead th {\n",
              "        text-align: right;\n",
              "    }\n",
              "</style>\n",
              "<table border=\"1\" class=\"dataframe\">\n",
              "  <thead>\n",
              "    <tr style=\"text-align: right;\">\n",
              "      <th></th>\n",
              "    </tr>\n",
              "  </thead>\n",
              "  <tbody>\n",
              "  </tbody>\n",
              "</table>\n",
              "</div>\n",
              "    <div class=\"colab-df-buttons\">\n",
              "\n",
              "  <div class=\"colab-df-container\">\n",
              "    <button class=\"colab-df-convert\" onclick=\"convertToInteractive('df-c844bc55-b8e3-4c4e-9957-32a2d64a0e41')\"\n",
              "            title=\"Convert this dataframe to an interactive table.\"\n",
              "            style=\"display:none;\">\n",
              "\n",
              "  <svg xmlns=\"http://www.w3.org/2000/svg\" height=\"24px\" viewBox=\"0 -960 960 960\">\n",
              "    <path d=\"M120-120v-720h720v720H120Zm60-500h600v-160H180v160Zm220 220h160v-160H400v160Zm0 220h160v-160H400v160ZM180-400h160v-160H180v160Zm440 0h160v-160H620v160ZM180-180h160v-160H180v160Zm440 0h160v-160H620v160Z\"/>\n",
              "  </svg>\n",
              "    </button>\n",
              "\n",
              "  <style>\n",
              "    .colab-df-container {\n",
              "      display:flex;\n",
              "      gap: 12px;\n",
              "    }\n",
              "\n",
              "    .colab-df-convert {\n",
              "      background-color: #E8F0FE;\n",
              "      border: none;\n",
              "      border-radius: 50%;\n",
              "      cursor: pointer;\n",
              "      display: none;\n",
              "      fill: #1967D2;\n",
              "      height: 32px;\n",
              "      padding: 0 0 0 0;\n",
              "      width: 32px;\n",
              "    }\n",
              "\n",
              "    .colab-df-convert:hover {\n",
              "      background-color: #E2EBFA;\n",
              "      box-shadow: 0px 1px 2px rgba(60, 64, 67, 0.3), 0px 1px 3px 1px rgba(60, 64, 67, 0.15);\n",
              "      fill: #174EA6;\n",
              "    }\n",
              "\n",
              "    .colab-df-buttons div {\n",
              "      margin-bottom: 4px;\n",
              "    }\n",
              "\n",
              "    [theme=dark] .colab-df-convert {\n",
              "      background-color: #3B4455;\n",
              "      fill: #D2E3FC;\n",
              "    }\n",
              "\n",
              "    [theme=dark] .colab-df-convert:hover {\n",
              "      background-color: #434B5C;\n",
              "      box-shadow: 0px 1px 3px 1px rgba(0, 0, 0, 0.15);\n",
              "      filter: drop-shadow(0px 1px 2px rgba(0, 0, 0, 0.3));\n",
              "      fill: #FFFFFF;\n",
              "    }\n",
              "  </style>\n",
              "\n",
              "    <script>\n",
              "      const buttonEl =\n",
              "        document.querySelector('#df-c844bc55-b8e3-4c4e-9957-32a2d64a0e41 button.colab-df-convert');\n",
              "      buttonEl.style.display =\n",
              "        google.colab.kernel.accessAllowed ? 'block' : 'none';\n",
              "\n",
              "      async function convertToInteractive(key) {\n",
              "        const element = document.querySelector('#df-c844bc55-b8e3-4c4e-9957-32a2d64a0e41');\n",
              "        const dataTable =\n",
              "          await google.colab.kernel.invokeFunction('convertToInteractive',\n",
              "                                                    [key], {});\n",
              "        if (!dataTable) return;\n",
              "\n",
              "        const docLinkHtml = 'Like what you see? Visit the ' +\n",
              "          '<a target=\"_blank\" href=https://colab.research.google.com/notebooks/data_table.ipynb>data table notebook</a>'\n",
              "          + ' to learn more about interactive tables.';\n",
              "        element.innerHTML = '';\n",
              "        dataTable['output_type'] = 'display_data';\n",
              "        await google.colab.output.renderOutput(dataTable, element);\n",
              "        const docLink = document.createElement('div');\n",
              "        docLink.innerHTML = docLinkHtml;\n",
              "        element.appendChild(docLink);\n",
              "      }\n",
              "    </script>\n",
              "  </div>\n",
              "\n",
              "\n",
              "    </div>\n",
              "  </div>\n"
            ],
            "application/vnd.google.colaboratory.intrinsic+json": {
              "type": "dataframe",
              "variable_name": "data",
              "summary": "{\n  \"name\": \"data\",\n  \"rows\": 0,\n  \"fields\": []\n}"
            }
          },
          "metadata": {},
          "execution_count": 15
        }
      ],
      "source": [
        "data.head()"
      ]
    },
    {
      "cell_type": "code",
      "execution_count": null,
      "metadata": {
        "colab": {
          "base_uri": "https://localhost:8080/",
          "height": 915
        },
        "id": "PUfnXFfdIkxO",
        "outputId": "594c5bf9-6cce-4b37-d3d0-550030377236"
      },
      "outputs": [
        {
          "output_type": "error",
          "ename": "KeyError",
          "evalue": "'emotion'",
          "traceback": [
            "\u001b[0;31m---------------------------------------------------------------------------\u001b[0m",
            "\u001b[0;31mKeyError\u001b[0m                                  Traceback (most recent call last)",
            "\u001b[0;32m/usr/local/lib/python3.10/dist-packages/pandas/core/indexes/base.py\u001b[0m in \u001b[0;36mget_loc\u001b[0;34m(self, key, method, tolerance)\u001b[0m\n\u001b[1;32m   3801\u001b[0m             \u001b[0;32mtry\u001b[0m\u001b[0;34m:\u001b[0m\u001b[0;34m\u001b[0m\u001b[0;34m\u001b[0m\u001b[0m\n\u001b[0;32m-> 3802\u001b[0;31m                 \u001b[0;32mreturn\u001b[0m \u001b[0mself\u001b[0m\u001b[0;34m.\u001b[0m\u001b[0m_engine\u001b[0m\u001b[0;34m.\u001b[0m\u001b[0mget_loc\u001b[0m\u001b[0;34m(\u001b[0m\u001b[0mcasted_key\u001b[0m\u001b[0;34m)\u001b[0m\u001b[0;34m\u001b[0m\u001b[0;34m\u001b[0m\u001b[0m\n\u001b[0m\u001b[1;32m   3803\u001b[0m             \u001b[0;32mexcept\u001b[0m \u001b[0mKeyError\u001b[0m \u001b[0;32mas\u001b[0m \u001b[0merr\u001b[0m\u001b[0;34m:\u001b[0m\u001b[0;34m\u001b[0m\u001b[0;34m\u001b[0m\u001b[0m\n",
            "\u001b[0;32m/usr/local/lib/python3.10/dist-packages/pandas/_libs/index.pyx\u001b[0m in \u001b[0;36mpandas._libs.index.IndexEngine.get_loc\u001b[0;34m()\u001b[0m\n",
            "\u001b[0;32m/usr/local/lib/python3.10/dist-packages/pandas/_libs/index.pyx\u001b[0m in \u001b[0;36mpandas._libs.index.IndexEngine.get_loc\u001b[0;34m()\u001b[0m\n",
            "\u001b[0;32mpandas/_libs/hashtable_class_helper.pxi\u001b[0m in \u001b[0;36mpandas._libs.hashtable.PyObjectHashTable.get_item\u001b[0;34m()\u001b[0m\n",
            "\u001b[0;32mpandas/_libs/hashtable_class_helper.pxi\u001b[0m in \u001b[0;36mpandas._libs.hashtable.PyObjectHashTable.get_item\u001b[0;34m()\u001b[0m\n",
            "\u001b[0;31mKeyError\u001b[0m: 'emotion'",
            "\nThe above exception was the direct cause of the following exception:\n",
            "\u001b[0;31mKeyError\u001b[0m                                  Traceback (most recent call last)",
            "\u001b[0;32m<ipython-input-16-9c506dedfa4a>\u001b[0m in \u001b[0;36m<cell line: 5>\u001b[0;34m()\u001b[0m\n\u001b[1;32m      3\u001b[0m \u001b[0;34m\u001b[0m\u001b[0m\n\u001b[1;32m      4\u001b[0m \u001b[0mplt\u001b[0m\u001b[0;34m.\u001b[0m\u001b[0mtitle\u001b[0m\u001b[0;34m(\u001b[0m\u001b[0;34m'Count of Emotions'\u001b[0m\u001b[0;34m,\u001b[0m \u001b[0msize\u001b[0m\u001b[0;34m=\u001b[0m\u001b[0;36m16\u001b[0m\u001b[0;34m)\u001b[0m\u001b[0;34m\u001b[0m\u001b[0;34m\u001b[0m\u001b[0m\n\u001b[0;32m----> 5\u001b[0;31m \u001b[0msns\u001b[0m\u001b[0;34m.\u001b[0m\u001b[0mcountplot\u001b[0m\u001b[0;34m(\u001b[0m\u001b[0mdata\u001b[0m\u001b[0;34m=\u001b[0m\u001b[0mdata\u001b[0m\u001b[0;34m,\u001b[0m \u001b[0mx\u001b[0m\u001b[0;34m=\u001b[0m\u001b[0;34m'emotion'\u001b[0m\u001b[0;34m,\u001b[0m \u001b[0morder\u001b[0m\u001b[0;34m=\u001b[0m\u001b[0mdata\u001b[0m\u001b[0;34m[\u001b[0m\u001b[0;34m'emotion'\u001b[0m\u001b[0;34m]\u001b[0m\u001b[0;34m.\u001b[0m\u001b[0mvalue_counts\u001b[0m\u001b[0;34m(\u001b[0m\u001b[0;34m)\u001b[0m\u001b[0;34m.\u001b[0m\u001b[0mindex\u001b[0m\u001b[0;34m)\u001b[0m\u001b[0;34m\u001b[0m\u001b[0;34m\u001b[0m\u001b[0m\n\u001b[0m\u001b[1;32m      6\u001b[0m \u001b[0mplt\u001b[0m\u001b[0;34m.\u001b[0m\u001b[0mylabel\u001b[0m\u001b[0;34m(\u001b[0m\u001b[0;34m'Count'\u001b[0m\u001b[0;34m,\u001b[0m \u001b[0msize\u001b[0m\u001b[0;34m=\u001b[0m\u001b[0;36m12\u001b[0m\u001b[0;34m)\u001b[0m\u001b[0;34m\u001b[0m\u001b[0;34m\u001b[0m\u001b[0m\n\u001b[1;32m      7\u001b[0m \u001b[0mplt\u001b[0m\u001b[0;34m.\u001b[0m\u001b[0mxlabel\u001b[0m\u001b[0;34m(\u001b[0m\u001b[0;34m'Emotions'\u001b[0m\u001b[0;34m,\u001b[0m \u001b[0msize\u001b[0m\u001b[0;34m=\u001b[0m\u001b[0;36m12\u001b[0m\u001b[0;34m)\u001b[0m\u001b[0;34m\u001b[0m\u001b[0;34m\u001b[0m\u001b[0m\n",
            "\u001b[0;32m/usr/local/lib/python3.10/dist-packages/pandas/core/frame.py\u001b[0m in \u001b[0;36m__getitem__\u001b[0;34m(self, key)\u001b[0m\n\u001b[1;32m   3805\u001b[0m             \u001b[0;32mif\u001b[0m \u001b[0mself\u001b[0m\u001b[0;34m.\u001b[0m\u001b[0mcolumns\u001b[0m\u001b[0;34m.\u001b[0m\u001b[0mnlevels\u001b[0m \u001b[0;34m>\u001b[0m \u001b[0;36m1\u001b[0m\u001b[0;34m:\u001b[0m\u001b[0;34m\u001b[0m\u001b[0;34m\u001b[0m\u001b[0m\n\u001b[1;32m   3806\u001b[0m                 \u001b[0;32mreturn\u001b[0m \u001b[0mself\u001b[0m\u001b[0;34m.\u001b[0m\u001b[0m_getitem_multilevel\u001b[0m\u001b[0;34m(\u001b[0m\u001b[0mkey\u001b[0m\u001b[0;34m)\u001b[0m\u001b[0;34m\u001b[0m\u001b[0;34m\u001b[0m\u001b[0m\n\u001b[0;32m-> 3807\u001b[0;31m             \u001b[0mindexer\u001b[0m \u001b[0;34m=\u001b[0m \u001b[0mself\u001b[0m\u001b[0;34m.\u001b[0m\u001b[0mcolumns\u001b[0m\u001b[0;34m.\u001b[0m\u001b[0mget_loc\u001b[0m\u001b[0;34m(\u001b[0m\u001b[0mkey\u001b[0m\u001b[0;34m)\u001b[0m\u001b[0;34m\u001b[0m\u001b[0;34m\u001b[0m\u001b[0m\n\u001b[0m\u001b[1;32m   3808\u001b[0m             \u001b[0;32mif\u001b[0m \u001b[0mis_integer\u001b[0m\u001b[0;34m(\u001b[0m\u001b[0mindexer\u001b[0m\u001b[0;34m)\u001b[0m\u001b[0;34m:\u001b[0m\u001b[0;34m\u001b[0m\u001b[0;34m\u001b[0m\u001b[0m\n\u001b[1;32m   3809\u001b[0m                 \u001b[0mindexer\u001b[0m \u001b[0;34m=\u001b[0m \u001b[0;34m[\u001b[0m\u001b[0mindexer\u001b[0m\u001b[0;34m]\u001b[0m\u001b[0;34m\u001b[0m\u001b[0;34m\u001b[0m\u001b[0m\n",
            "\u001b[0;32m/usr/local/lib/python3.10/dist-packages/pandas/core/indexes/base.py\u001b[0m in \u001b[0;36mget_loc\u001b[0;34m(self, key, method, tolerance)\u001b[0m\n\u001b[1;32m   3802\u001b[0m                 \u001b[0;32mreturn\u001b[0m \u001b[0mself\u001b[0m\u001b[0;34m.\u001b[0m\u001b[0m_engine\u001b[0m\u001b[0;34m.\u001b[0m\u001b[0mget_loc\u001b[0m\u001b[0;34m(\u001b[0m\u001b[0mcasted_key\u001b[0m\u001b[0;34m)\u001b[0m\u001b[0;34m\u001b[0m\u001b[0;34m\u001b[0m\u001b[0m\n\u001b[1;32m   3803\u001b[0m             \u001b[0;32mexcept\u001b[0m \u001b[0mKeyError\u001b[0m \u001b[0;32mas\u001b[0m \u001b[0merr\u001b[0m\u001b[0;34m:\u001b[0m\u001b[0;34m\u001b[0m\u001b[0;34m\u001b[0m\u001b[0m\n\u001b[0;32m-> 3804\u001b[0;31m                 \u001b[0;32mraise\u001b[0m \u001b[0mKeyError\u001b[0m\u001b[0;34m(\u001b[0m\u001b[0mkey\u001b[0m\u001b[0;34m)\u001b[0m \u001b[0;32mfrom\u001b[0m \u001b[0merr\u001b[0m\u001b[0;34m\u001b[0m\u001b[0;34m\u001b[0m\u001b[0m\n\u001b[0m\u001b[1;32m   3805\u001b[0m             \u001b[0;32mexcept\u001b[0m \u001b[0mTypeError\u001b[0m\u001b[0;34m:\u001b[0m\u001b[0;34m\u001b[0m\u001b[0;34m\u001b[0m\u001b[0m\n\u001b[1;32m   3806\u001b[0m                 \u001b[0;31m# If we have a listlike key, _check_indexing_error will raise\u001b[0m\u001b[0;34m\u001b[0m\u001b[0;34m\u001b[0m\u001b[0m\n",
            "\u001b[0;31mKeyError\u001b[0m: 'emotion'"
          ]
        },
        {
          "output_type": "display_data",
          "data": {
            "text/plain": [
              "<Figure size 640x480 with 1 Axes>"
            ],
            "image/png": "[encoded data removed]"
          },
          "metadata": {}
        }
      ],
      "source": [
        "import matplotlib.pyplot as plt\n",
        "import seaborn as sns\n",
        "\n",
        "plt.title('Count of Emotions', size=16)\n",
        "sns.countplot(data=data, x='emotion', order=data['emotion'].value_counts().index)\n",
        "plt.ylabel('Count', size=12)\n",
        "plt.xlabel('Emotions', size=12)\n",
        "sns.despine(top=True, right=True, left=False, bottom=False)\n",
        "plt.show()\n"
      ]
    },
    {
      "cell_type": "code",
      "execution_count": null,
      "metadata": {
        "colab": {
          "background_save": true
        },
        "id": "v73v7j-PHEJF"
      },
      "outputs": [],
      "source": [
        "#reindexing to shuffle the data at random\n",
        "data = data.reindex(np.random.permutation(data.index))"
      ]
    },
    {
      "cell_type": "code",
      "execution_count": null,
      "metadata": {
        "colab": {
          "background_save": true
        },
        "id": "pIMThg74NgOP"
      },
      "outputs": [],
      "source": []
    },
    {
      "cell_type": "code",
      "execution_count": null,
      "metadata": {
        "colab": {
          "background_save": true
        },
        "id": "WvfX2v4IHHCe"
      },
      "outputs": [],
      "source": [
        "# Storing shuffled ravdess and tess data to avoid loading again\n",
        "data.to_csv(\"RAVTESS_MFCC_Observed.csv\")"
      ]
    },
    {
      "cell_type": "code",
      "execution_count": null,
      "metadata": {
        "colab": {
          "background_save": true
        },
        "id": "3KZgu3HGHJsU"
      },
      "outputs": [],
      "source": [
        "# speech emotion recognition"
      ]
    },
    {
      "cell_type": "code",
      "execution_count": null,
      "metadata": {
        "colab": {
          "background_save": true
        },
        "id": "bzqCibH6HRq6",
        "outputId": "553f6e7e-9819-4261-c0f1-48d6803d2352"
      },
      "outputs": [
        {
          "name": "stdout",
          "output_type": "stream",
          "text": [
            "data loaded in 0.03840970993041992ms\n",
            "   Unnamed: 0          0          1          2          3          4  \\\n",
            "0         505 -615.99640  76.315330 -12.541039  18.877080   3.852680   \n",
            "1        1539 -390.24445  65.916336  26.215246  38.353092 -12.048004   \n",
            "2         473 -462.67886  18.256329 -54.202450  -1.108679 -12.313275   \n",
            "3        1873 -427.14963  76.537870   7.327984  42.409534  -6.831890   \n",
            "4        2366 -369.24902  42.453000 -12.481344  18.837220 -18.227434   \n",
            "\n",
            "           5          6          7          8  ...         31         32  \\\n",
            "0   1.571579 -14.081520  -7.234631  -3.617209  ...   1.374290   0.420803   \n",
            "1   9.616499 -12.680340  -2.616339  -2.688254  ...  10.948750   8.410737   \n",
            "2 -13.861100 -22.440460  -7.047171 -21.436087  ...   4.241406   0.897156   \n",
            "3   2.171045  -9.058948  -8.979313  -9.869923  ...  10.748813  24.074635   \n",
            "4   2.600628  -5.241814 -17.225275 -11.086796  ...  10.529793   3.868893   \n",
            "\n",
            "          33         34         35         36        37        38        39  \\\n",
            "0   0.847708   1.562798   1.155324   3.417161  5.458083  7.811503  3.982291   \n",
            "1   5.125824   3.237195   0.588893   1.360774  2.164681  6.040845  6.280758   \n",
            "2   5.404067   3.993657   3.408328   2.482080  2.672608  2.215661  1.949935   \n",
            "3  34.509766  38.864433  26.479020  10.277788 -4.538520 -3.056282  2.993013   \n",
            "4   1.397772   1.900321   6.188209   5.783764  2.440031  0.755601 -0.668055   \n",
            "\n",
            "   emotion  \n",
            "0    happy  \n",
            "1      sad  \n",
            "2    happy  \n",
            "3  neutral  \n",
            "4    angry  \n",
            "\n",
            "[5 rows x 42 columns]\n"
          ]
        }
      ],
      "source": [
        "\n",
        "\n",
        "starting_time = time.time()\n",
        "data = pd.read_csv(\"./RAVTESS_MFCC_Observed.csv\")\n",
        "print(\"data loaded in \" + str(time.time()-starting_time) + \"ms\")\n",
        "\n",
        "print(data.head())\n"
      ]
    },
    {
      "cell_type": "code",
      "execution_count": null,
      "metadata": {
        "colab": {
          "background_save": true
        },
        "id": "mzBXcwTAHSDI",
        "outputId": "45e28e8f-d893-4bfc-91d6-19790d6dce6d"
      },
      "outputs": [
        {
          "data": {
            "text/plain": [
              "(4240, 42)"
            ]
          },
          "execution_count": 74,
          "metadata": {},
          "output_type": "execute_result"
        }
      ],
      "source": [
        "data.shape\n"
      ]
    },
    {
      "cell_type": "code",
      "execution_count": null,
      "metadata": {
        "colab": {
          "background_save": true
        },
        "id": "Qq6X6v2pHVd7",
        "outputId": "08c052e8-8330-435e-cdc8-6fdebc61cc98"
      },
      "outputs": [
        {
          "data": {
            "text/plain": [
              "Index(['Unnamed: 0', '0', '1', '2', '3', '4', '5', '6', '7', '8', '9', '10',\n",
              "       '11', '12', '13', '14', '15', '16', '17', '18', '19', '20', '21', '22',\n",
              "       '23', '24', '25', '26', '27', '28', '29', '30', '31', '32', '33', '34',\n",
              "       '35', '36', '37', '38', '39', 'emotion'],\n",
              "      dtype='object')"
            ]
          },
          "execution_count": 75,
          "metadata": {},
          "output_type": "execute_result"
        }
      ],
      "source": [
        "#printing all columns\n",
        "data.columns\n"
      ]
    },
    {
      "cell_type": "code",
      "execution_count": null,
      "metadata": {
        "colab": {
          "background_save": true
        },
        "id": "x9vxl_H6HYUN"
      },
      "outputs": [],
      "source": [
        "#dropping the column Unnamed: 0 to removed shuffled index\n",
        "data = data.drop('Unnamed: 0',axis=1)"
      ]
    },
    {
      "cell_type": "code",
      "execution_count": null,
      "metadata": {
        "colab": {
          "background_save": true
        },
        "id": "4t7RXfMyOWfU"
      },
      "outputs": [],
      "source": [
        "\n"
      ]
    },
    {
      "cell_type": "code",
      "execution_count": null,
      "metadata": {
        "colab": {
          "background_save": true
        },
        "id": "T_5JYLw3HajF",
        "outputId": "f1829263-4cee-409f-d16d-38850704bf4d"
      },
      "outputs": [
        {
          "data": {
            "text/plain": [
              "Index(['0', '1', '2', '3', '4', '5', '6', '7', '8', '9', '10', '11', '12',\n",
              "       '13', '14', '15', '16', '17', '18', '19', '20', '21', '22', '23', '24',\n",
              "       '25', '26', '27', '28', '29', '30', '31', '32', '33', '34', '35', '36',\n",
              "       '37', '38', '39', 'emotion'],\n",
              "      dtype='object')"
            ]
          },
          "execution_count": 77,
          "metadata": {},
          "output_type": "execute_result"
        }
      ],
      "source": [
        "data.columns\n"
      ]
    },
    {
      "cell_type": "code",
      "execution_count": null,
      "metadata": {
        "colab": {
          "background_save": true
        },
        "id": "habixNCrHdUJ"
      },
      "outputs": [],
      "source": [
        "#separating features and target outputs\n",
        "X = data.drop('emotion', axis = 1).values\n",
        "y = data['emotion'].values"
      ]
    },
    {
      "cell_type": "code",
      "execution_count": null,
      "metadata": {
        "colab": {
          "background_save": true
        },
        "id": "kzVw39xwHftV",
        "outputId": "bb8f28a6-5838-4f12-dbcd-b7b94fd05a87"
      },
      "outputs": [
        {
          "name": "stdout",
          "output_type": "stream",
          "text": [
            "['happy' 'sad' 'happy' ... 'fear' 'happy' 'sad']\n"
          ]
        }
      ],
      "source": [
        "print(y)\n"
      ]
    },
    {
      "cell_type": "code",
      "execution_count": null,
      "metadata": {
        "colab": {
          "background_save": true
        },
        "id": "y3UxCqByHhaH"
      },
      "outputs": [],
      "source": [
        "# SVM"
      ]
    },
    {
      "cell_type": "code",
      "execution_count": null,
      "metadata": {
        "colab": {
          "background_save": true
        },
        "id": "YtScJ-dGHkaf"
      },
      "outputs": [],
      "source": [
        "import pandas as pd\n",
        "import numpy as np\n",
        "import matplotlib.pyplot as plt\n",
        "%matplotlib inline"
      ]
    },
    {
      "cell_type": "code",
      "execution_count": null,
      "metadata": {
        "colab": {
          "background_save": true
        },
        "id": "l0Q-8HdMI0kk",
        "outputId": "17d8cc5c-4494-44fd-a541-f401f57d9519"
      },
      "outputs": [
        {
          "data": {
            "text/plain": [
              "((4240, 40), (4240,))"
            ]
          },
          "execution_count": 82,
          "metadata": {},
          "output_type": "execute_result"
        }
      ],
      "source": [
        "X.shape, y.shape\n"
      ]
    },
    {
      "cell_type": "code",
      "execution_count": null,
      "metadata": {
        "colab": {
          "background_save": true
        },
        "id": "tbMG93gMI2gT",
        "outputId": "f3e46633-66c2-4d8e-f3ee-7c47a594061e"
      },
      "outputs": [
        {
          "data": {
            "text/plain": [
              "array(['angry', 'calm', 'disgust', 'fear', 'happy', 'neutral', 'sad',\n",
              "       'surprised'], dtype=object)"
            ]
          },
          "execution_count": 83,
          "metadata": {},
          "output_type": "execute_result"
        }
      ],
      "source": [
        "np.unique(y)\n"
      ]
    },
    {
      "cell_type": "code",
      "execution_count": null,
      "metadata": {
        "colab": {
          "background_save": true
        },
        "id": "_PfykvQ0I4KL"
      },
      "outputs": [],
      "source": [
        "from sklearn.model_selection import train_test_split\n",
        "\n",
        "X_train, X_test, y_train, y_test = train_test_split(X, y, test_size = 0.20)"
      ]
    },
    {
      "cell_type": "code",
      "execution_count": null,
      "metadata": {
        "colab": {
          "background_save": true
        },
        "id": "Pz71b8ASI6LJ"
      },
      "outputs": [],
      "source": [
        "from sklearn.svm import SVC\n",
        "\n",
        "svclassifier = SVC(kernel = 'linear')"
      ]
    },
    {
      "cell_type": "code",
      "execution_count": null,
      "metadata": {
        "colab": {
          "background_save": true
        },
        "id": "rj70DAOqI8Gl",
        "outputId": "e3bcdcb1-a641-48ef-e87b-99f66a03608e"
      },
      "outputs": [
        {
          "name": "stdout",
          "output_type": "stream",
          "text": [
            "Trained model in 77.07592606544495 ms \n"
          ]
        }
      ],
      "source": [
        "import time\n",
        "\n",
        "starting_time = time.time()\n",
        "svclassifier.fit(X_train, y_train)\n",
        "print(\"Trained model in %s ms \" % str(time.time() - starting_time))"
      ]
    },
    {
      "cell_type": "code",
      "execution_count": null,
      "metadata": {
        "colab": {
          "background_save": true
        },
        "id": "8y-pWMT8I-Ia"
      },
      "outputs": [],
      "source": [
        "y_pred = svclassifier.predict(X_test)"
      ]
    },
    {
      "cell_type": "code",
      "execution_count": null,
      "metadata": {
        "colab": {
          "background_save": true
        },
        "id": "pYTvNcVMJCH3",
        "outputId": "a7e274c5-45c0-40eb-e346-5468b57c74ed"
      },
      "outputs": [
        {
          "name": "stdout",
          "output_type": "stream",
          "text": [
            "              precision    recall  f1-score   support\n",
            "\n",
            "       angry       0.77      0.89      0.82       131\n",
            "        calm       0.45      0.68      0.54        28\n",
            "     disgust       0.80      0.78      0.79       127\n",
            "        fear       0.81      0.76      0.79       116\n",
            "       happy       0.71      0.77      0.74       127\n",
            "     neutral       0.83      0.79      0.81        95\n",
            "         sad       0.81      0.79      0.80       115\n",
            "   surprised       0.88      0.65      0.75       109\n",
            "\n",
            "    accuracy                           0.77       848\n",
            "   macro avg       0.76      0.76      0.75       848\n",
            "weighted avg       0.79      0.77      0.78       848\n",
            "\n",
            "----accuracy score 77.47641509433963 ----\n"
          ]
        },
        {
          "data": {
            "image/png": "[encoded data removed]",
            "text/plain": [
              "<Figure size 640x480 with 2 Axes>"
            ]
          },
          "metadata": {},
          "output_type": "display_data"
        }
      ],
      "source": [
        "from sklearn.metrics import classification_report, confusion_matrix,accuracy_score\n",
        "import seaborn as sn\n",
        "\n",
        "print(classification_report(y_test,y_pred))\n",
        "\n",
        "acc = float(accuracy_score(y_test,y_pred))*100\n",
        "print(\"----accuracy score %s ----\" % acc)\n",
        "\n",
        "cm = confusion_matrix(y_test,y_pred)\n",
        "df_cm = pd.DataFrame(cm)\n",
        "sn.heatmap(df_cm, annot=True, fmt='')\n",
        "plt.show()"
      ]
    },
    {
      "cell_type": "code",
      "execution_count": null,
      "metadata": {
        "colab": {
          "background_save": true
        },
        "id": "-nM1g0GnJJtB",
        "outputId": "596237ba-cbf4-4ffb-b27c-fd38f76a9663"
      },
      "outputs": [
        {
          "name": "stdout",
          "output_type": "stream",
          "text": [
            "----train accuracy score 81.60377358490565 ----\n",
            "----test accuracy score 77.47641509433963 ----\n"
          ]
        }
      ],
      "source": [
        "train_acc = float(svclassifier.score(X_train, y_train)*100)\n",
        "print(\"----train accuracy score %s ----\" % train_acc)\n",
        "\n",
        "test_acc = float(svclassifier.score(X_test, y_test)*100)\n",
        "print(\"----test accuracy score %s ----\" % test_acc)"
      ]
    },
    {
      "cell_type": "code",
      "execution_count": null,
      "metadata": {
        "colab": {
          "background_save": true
        },
        "id": "aIxYW4UnJOlV"
      },
      "outputs": [],
      "source": [
        "# cross validation"
      ]
    },
    {
      "cell_type": "code",
      "execution_count": null,
      "metadata": {
        "colab": {
          "background_save": true
        },
        "id": "iYq-BEgqJVPV",
        "outputId": "94909e94-cd28-4f23-d8a9-ff9e0830e023"
      },
      "outputs": [
        {
          "name": "stdout",
          "output_type": "stream",
          "text": [
            "[0.73938679 0.74056604 0.79245283 0.75117925 0.76061321]\n"
          ]
        }
      ],
      "source": [
        "from sklearn.model_selection import cross_val_score\n",
        "\n",
        "# no. of folds cv = 5\n",
        "cv_results = cross_val_score(svclassifier, X, y, cv = 5)\n",
        "print(cv_results)"
      ]
    },
    {
      "cell_type": "code",
      "execution_count": null,
      "metadata": {
        "colab": {
          "background_save": true
        },
        "id": "gMgGh5M9N1ND",
        "outputId": "e29ef8a3-a959-4ed7-de5e-24da7de4dfbc"
      },
      "outputs": [
        {
          "name": "stdout",
          "output_type": "stream",
          "text": [
            "Trained model in 1.1077837944030762 ms \n",
            "              precision    recall  f1-score   support\n",
            "\n",
            "       angry       0.81      0.89      0.84       131\n",
            "        calm       0.40      0.68      0.50        28\n",
            "     disgust       0.81      0.80      0.80       127\n",
            "        fear       0.85      0.81      0.83       116\n",
            "       happy       0.71      0.78      0.74       127\n",
            "     neutral       0.87      0.80      0.84        95\n",
            "         sad       0.84      0.77      0.81       115\n",
            "   surprised       0.85      0.69      0.76       109\n",
            "\n",
            "    accuracy                           0.79       848\n",
            "   macro avg       0.77      0.78      0.77       848\n",
            "weighted avg       0.80      0.79      0.79       848\n",
            "\n",
            "----accuracy score 78.89150943396226 ----\n"
          ]
        },
        {
          "data": {
            "image/png": "[encoded data removed]",
            "text/plain": [
              "<Figure size 800x600 with 2 Axes>"
            ]
          },
          "metadata": {},
          "output_type": "display_data"
        }
      ],
      "source": [
        "from sklearn.model_selection import train_test_split, GridSearchCV\n",
        "from sklearn.svm import SVC\n",
        "from sklearn.metrics import classification_report, confusion_matrix, accuracy_score\n",
        "import seaborn as sn\n",
        "\n",
        "# Assuming X_train, X_test, y_train, y_test are available\n",
        "\n",
        "# Step 1: Feature Engineering (if needed)\n",
        "# Consider exploring different feature extraction techniques\n",
        "\n",
        "# Step 2: Model Selection and Hyperparameter Tuning\n",
        "parameters = {'C': [0.001, 0.01, 0.1, 1, 10], 'kernel': ['linear', 'poly', 'rbf', 'sigmoid']}\n",
        "svc = SVC()\n",
        "grid_search = GridSearchCV(svc, parameters, cv=10, n_jobs=-1)\n",
        "grid_search.fit(X_train, y_train)\n",
        "\n",
        "# Select the best model from the grid search\n",
        "best_svc = grid_search.best_estimator_\n",
        "\n",
        "# Step 3: Training the Best Model\n",
        "starting_time = time.time()\n",
        "best_svc.fit(X_train, y_train)\n",
        "print(\"Trained model in %s ms \" % str(time.time() - starting_time))\n",
        "\n",
        "# Step 4: Prediction and Evaluation\n",
        "y_pred = best_svc.predict(X_test)\n",
        "\n",
        "print(classification_report(y_test, y_pred))\n",
        "\n",
        "acc = float(accuracy_score(y_test, y_pred)) * 100\n",
        "print(\"----accuracy score %s ----\" % acc)\n",
        "\n",
        "cm = confusion_matrix(y_test, y_pred)\n",
        "df_cm = pd.DataFrame(cm, index=best_svc.classes_, columns=best_svc.classes_)\n",
        "\n",
        "plt.figure(figsize=(8, 6))\n",
        "sns.heatmap(df_cm, annot=True, fmt='d', cmap='Blues')\n",
        "plt.title('Confusion Matrix')\n",
        "plt.xlabel('Predicted')\n",
        "plt.ylabel('True')\n",
        "plt.show()\n"
      ]
    },
    {
      "cell_type": "code",
      "execution_count": null,
      "metadata": {
        "id": "mUPeo_CBIoOB"
      },
      "outputs": [],
      "source": [
        "scaler = StandardScaler()\n",
        "X_scaled = scaler.fit_transform(X)\n",
        "\n",
        "# Splitting the dataset into train/test sets\n",
        "X_train, X_test, y_train, y_test = train_test_split(X_scaled, y, test_size=0.2, random_state=42)\n",
        "\n",
        "# SVM with Grid Search for Hyperparameter Tuning\n",
        "parameters = {'C': [0.001, 0.01, 0.1, 1, 10], 'kernel': ['linear', 'poly', 'rbf', 'sigmoid']}\n",
        "svc = SVC()\n",
        "grid_search = GridSearchCV(svc, parameters, cv=5, n_jobs=-1)\n",
        "grid_search.fit(X_train, y_train)\n",
        "best_svc = grid_search.best_estimator_\n",
        "\n",
        "# Prediction and Evaluation\n",
        "y_pred = best_svc.predict(X_test)\n",
        "\n",
        "print(classification_report(y_test, y_pred))\n",
        "acc = float(accuracy_score(y_test, y_pred)) * 100\n",
        "print(\"----accuracy score %s ----\" % acc)\n",
        "\n",
        "# Random Forest Classifier\n",
        "rf_classifier = RandomForestClassifier(n_estimators=300, random_state=42)\n",
        "rf_classifier.fit(X_train, y_train)\n",
        "\n",
        "# Prediction and Evaluation\n",
        "y_rf_pred = rf_classifier.predict(X_test)\n",
        "\n",
        "print(classification_report(y_test, y_rf_pred))\n",
        "acc_rf = float(accuracy_score(y_test, y_rf_pred)) * 100\n",
        "print(\"----Random Forest accuracy score %s ----\" % acc_rf)"
      ]
    },
    {
      "cell_type": "code",
      "execution_count": null,
      "metadata": {
        "id": "4oQOSyjsJXlN"
      },
      "outputs": [],
      "source": [
        "from sklearn.model_selection import train_test_split\n",
        "from sklearn.preprocessing import StandardScaler\n",
        "from sklearn.pipeline import Pipeline\n",
        "from sklearn.svm import SVC\n",
        "\n",
        "\n",
        "#splitting dataset into train/ test sets\n",
        "X_train, X_test, y_train, y_test = train_test_split(X, y, test_size = 0.20)\n",
        "\n",
        "# Setup the pipeline steps: steps\n",
        "steps = [('scaler', StandardScaler()),\n",
        "        ('SVM', SVC())]\n",
        "\n",
        "# Create the pipeline: pipeline\n",
        "pipeline = Pipeline(steps)\n",
        "\n",
        "# Fit the pipeline to the training set: svc_scaled\n",
        "svc_scaled = pipeline.fit(X_train, y_train)\n",
        "\n",
        "# Instantiate and fit a classifier to the unscaled data\n",
        "svc_unscaled = SVC(kernel = 'linear').fit(X_train, y_train)\n",
        "\n",
        "# Compute and print metrics\n",
        "print('Accuracy with Scaling: {}'.format(svc_scaled.score(X_test, y_test)))\n",
        "print('Accuracy without Scaling: {}'.format(svc_unscaled.score(X_test, y_test)))"
      ]
    },
    {
      "cell_type": "code",
      "execution_count": null,
      "metadata": {
        "id": "-_gUIwXHBM9q"
      },
      "outputs": [],
      "source": []
    },
    {
      "cell_type": "code",
      "execution_count": null,
      "metadata": {
        "id": "FKXHd2AuJbqk"
      },
      "outputs": [],
      "source": [
        "#Generalization check¶\n",
        "#Checking for overfitting or underfitting by comparing the training and testing scores of the model\n"
      ]
    },
    {
      "cell_type": "code",
      "execution_count": null,
      "metadata": {
        "id": "XC0grsGFJf9h"
      },
      "outputs": [],
      "source": [
        "train_acc = float(svc_scaled.score(X_train, y_train)*100)\n",
        "print(\"----train accuracy score %s ----\" % train_acc)\n",
        "\n",
        "test_acc = float(svc_scaled.score(X_test, y_test)*100)\n",
        "print(\"----test accuracy score %s ----\" % test_acc)"
      ]
    },
    {
      "cell_type": "code",
      "execution_count": null,
      "metadata": {
        "id": "j7HOlECyJkIm"
      },
      "outputs": [],
      "source": [
        "scaled_predictions = svc_scaled.predict(X_test)"
      ]
    },
    {
      "cell_type": "code",
      "execution_count": null,
      "metadata": {
        "id": "qbbITqxyJnOH"
      },
      "outputs": [],
      "source": [
        "#Classification reports and Confusion Matrix"
      ]
    },
    {
      "cell_type": "code",
      "execution_count": null,
      "metadata": {
        "id": "Y7MClbfEJp9k"
      },
      "outputs": [],
      "source": [
        "from sklearn.metrics import classification_report, confusion_matrix,accuracy_score\n",
        "import seaborn as sn\n",
        "\n",
        "print(classification_report(y_test,scaled_predictions))\n",
        "\n",
        "acc = float(accuracy_score(y_test,scaled_predictions))*100\n",
        "print(\"----accuracy score %s ----\" % acc)\n",
        "\n",
        "cm = confusion_matrix(y_test,scaled_predictions)\n",
        "df_cm = pd.DataFrame(cm)\n",
        "sn.heatmap(df_cm, annot=True, fmt='')\n",
        "plt.show()"
      ]
    },
    {
      "cell_type": "code",
      "execution_count": null,
      "metadata": {
        "id": "2dRVMiH_Jr4s"
      },
      "outputs": [],
      "source": [
        "from sklearn.neighbors import KNeighborsClassifier\n",
        "import time\n",
        "starting_time = time.time()\n",
        "knn = KNeighborsClassifier(n_neighbors=8)\n",
        "knn.fit(X_train, y_train)\n",
        "print(\"Trained model in %s ms \" % str(time.time() - starting_time))"
      ]
    },
    {
      "cell_type": "code",
      "execution_count": null,
      "metadata": {
        "id": "1IFIzZelBM_5"
      },
      "outputs": [],
      "source": [
        "\n"
      ]
    },
    {
      "cell_type": "code",
      "execution_count": null,
      "metadata": {
        "id": "Gn2fN_YQBvDm"
      },
      "outputs": [],
      "source": [
        "\n",
        "\n"
      ]
    },
    {
      "cell_type": "code",
      "execution_count": null,
      "metadata": {
        "id": "huei3fPNB7cF"
      },
      "outputs": [],
      "source": []
    },
    {
      "cell_type": "code",
      "execution_count": null,
      "metadata": {
        "id": "aOSJh3QyBhEC"
      },
      "outputs": [],
      "source": []
    },
    {
      "cell_type": "code",
      "execution_count": null,
      "metadata": {
        "id": "Jzsdw5xVBkYY"
      },
      "outputs": [],
      "source": [
        "train_acc = float(knn.score(X_train, y_train)*100)\n",
        "print(\"----train accuracy score %s ----\" % train_acc)\n",
        "\n",
        "test_acc = float(knn.score(X_test, y_test)*100)\n",
        "print(\"----test accuracy score %s ----\" % test_acc)"
      ]
    },
    {
      "cell_type": "code",
      "execution_count": null,
      "metadata": {
        "id": "9pum7CaAB9x3"
      },
      "outputs": [],
      "source": []
    },
    {
      "cell_type": "code",
      "execution_count": null,
      "metadata": {
        "id": "d961d804"
      },
      "outputs": [],
      "source": [
        "from sklearn.tree import DecisionTreeClassifier\n",
        "import time\n",
        "# Train Decision Tree model\n",
        "dt = DecisionTreeClassifier(random_state=29)\n",
        "dt.fit(X_train, y_train)\n",
        "\n",
        "print(\"Trained model in %s ms \" % str(time.time() - starting_time))"
      ]
    },
    {
      "cell_type": "code",
      "execution_count": null,
      "metadata": {
        "id": "nKB_v942CO92"
      },
      "outputs": [],
      "source": [
        "train_acc = float(dt.score(X_train, y_train)*100)\n",
        "print(\"----train accuracy score %s ----\" % train_acc)\n",
        "\n",
        "test_acc = float(dt.score(X_test, y_test)*100)\n",
        "print(\"----test accuracy score %s ----\" % test_acc)"
      ]
    },
    {
      "cell_type": "code",
      "execution_count": null,
      "metadata": {
        "id": "LMIE2Q0ECWIq"
      },
      "outputs": [],
      "source": [
        "from sklearn.ensemble import RandomForestClassifier\n",
        "\n",
        "# Train Random Forest model\n",
        "rf = RandomForestClassifier(n_estimators=300, random_state=42)\n",
        "rf.fit(X_train, y_train)\n"
      ]
    },
    {
      "cell_type": "code",
      "execution_count": null,
      "metadata": {
        "id": "P9b1L1D5FCea"
      },
      "outputs": [],
      "source": [
        "train_acc = float(rf.score(X_train, y_train)*100)\n",
        "print(\"----train accuracy score %s ----\" % train_acc)\n",
        "\n",
        "test_acc = float(rf.score(X_test, y_test)*100)\n",
        "print(\"----test accuracy score %s ----\" % test_acc)"
      ]
    },
    {
      "cell_type": "code",
      "execution_count": null,
      "metadata": {
        "id": "l5sigzQ9pxGI"
      },
      "outputs": [],
      "source": [
        "#KNN"
      ]
    },
    {
      "cell_type": "code",
      "execution_count": null,
      "metadata": {
        "id": "Bq9hHukLFGa4"
      },
      "outputs": [],
      "source": [
        "from sklearn.neighbors import KNeighborsClassifier\n",
        "import time\n",
        "\n",
        "# Measure the starting time\n",
        "starting_time = time.time()\n",
        "\n",
        "# Create a KNeighborsClassifier with 8 neighbors (you can adjust this number)\n",
        "knn = KNeighborsClassifier(n_neighbors=8)\n",
        "\n",
        "# Train the model with your training data\n",
        "knn.fit(X_train, y_train)\n",
        "\n",
        "# Calculate and print the time taken in milliseconds\n",
        "print(\"Trained model in %s ms \" % str(time.time() - starting_time))\n"
      ]
    },
    {
      "cell_type": "code",
      "execution_count": null,
      "metadata": {
        "id": "-zQUa_6WpwTT"
      },
      "outputs": [],
      "source": [
        "train_acc = float(knn.score(X_train, y_train)*100)\n",
        "print(\"----train accuracy score %s ----\" % train_acc)\n",
        "\n",
        "test_acc = float(knn.score(X_test, y_test)*100)\n",
        "print(\"----test accuracy score %s ----\" % test_acc)"
      ]
    },
    {
      "cell_type": "code",
      "execution_count": null,
      "metadata": {
        "id": "zXIq9XKJp0YU"
      },
      "outputs": [],
      "source": [
        "#GMM"
      ]
    },
    {
      "cell_type": "code",
      "execution_count": null,
      "metadata": {
        "id": "TCEqAKz0qJk2"
      },
      "outputs": [],
      "source": [
        "from sklearn.mixture import GaussianMixture\n",
        "import time\n",
        "\n",
        "# Measure the starting time\n",
        "starting_time = time.time()\n",
        "\n",
        "# Create a GaussianMixture model with a specified number of components (clusters)\n",
        "n_components = 2  # You can adjust this number\n",
        "gmm = GaussianMixture(n_components=n_components, random_state=0)\n",
        "\n",
        "# Fit the model to your data\n",
        "gmm.fit(X_train)\n",
        "\n",
        "# Calculate and print the time taken in milliseconds\n",
        "print(\"Trained model in %s ms\" % str((time.time() - starting_time) * 1000))\n"
      ]
    },
    {
      "cell_type": "code",
      "execution_count": null,
      "metadata": {
        "id": "qN52VeiQqKS9"
      },
      "outputs": [],
      "source": [
        "train_acc = float(gmm.score(X_train, y_train)*100)\n",
        "print(\"----train accuracy score %s ----\" % train_acc)\n",
        "\n",
        "test_acc = float(gmm.score(X_test, y_test)*100)\n",
        "print(\"----test accuracy score %s ----\" % test_acc)"
      ]
    },
    {
      "cell_type": "code",
      "execution_count": null,
      "metadata": {
        "id": "76ohurljqMHQ"
      },
      "outputs": [],
      "source": [
        "from sklearn.ensemble import GradientBoostingClassifier\n",
        "import time\n",
        "\n",
        "# Measure the starting time\n",
        "starting_time = time.time()\n",
        "\n",
        "# Create a GradientBoostingClassifier with the desired parameters\n",
        "n_estimators = 100  # You can adjust this number\n",
        "learning_rate = 0.4  # You can adjust the learning rate\n",
        "gb_classifier = GradientBoostingClassifier(n_estimators=n_estimators, learning_rate=learning_rate, random_state=0)\n",
        "\n",
        "# Fit the model to your training data\n",
        "gb_classifier.fit(X_train, y_train)\n",
        "\n",
        "# Calculate and print the time taken in milliseconds\n",
        "print(\"Trained model in %s ms\" % str((time.time() - starting_time) * 1000))\n"
      ]
    },
    {
      "cell_type": "code",
      "execution_count": null,
      "metadata": {
        "id": "QWRZNW1NnR7v"
      },
      "outputs": [],
      "source": [
        "from sklearn.ensemble import GradientBoostingClassifier\n",
        "import time\n",
        "starting_time = time.time()\n",
        "n_estimators = 100\n",
        "learning_rate = 0.4\n",
        "gb_classifier = GradientBoostingClassifier(n_estimators=n_estimators, learning_rate=learning_rate, random_state=0)\n",
        "\n",
        "\n",
        "gb_classifier.fit(X_train, y_train)\n",
        "\n",
        "\n",
        "print(\"Trained model in %s ms\" % str((time.time() - starting_time) * 1000))\n"
      ]
    },
    {
      "cell_type": "code",
      "execution_count": null,
      "metadata": {
        "id": "hWSH3v2Xs32V"
      },
      "outputs": [],
      "source": [
        "train_acc = float(gb_classifier.score(X_train, y_train)*100)\n",
        "print(\"----train accuracy score %s ----\" % train_acc)\n",
        "\n",
        "test_acc = float(gb_classifier.score(X_test, y_test)*100)\n",
        "print(\"----test accuracy score %s ----\" % test_acc)"
      ]
    },
    {
      "cell_type": "code",
      "execution_count": null,
      "metadata": {
        "id": "0IuBAb-Os-AA"
      },
      "outputs": [],
      "source": [
        "\n",
        "from sklearn.neural_network import MLPClassifier\n",
        "import time\n",
        "\n",
        "# Measure the starting time\n",
        "starting_time = time.time()\n",
        "\n",
        "# Create an MLPClassifier with the desired parameters\n",
        "hidden_layer_sizes = (100, 50)  # You can adjust the number of neurons in hidden layers\n",
        "alpha = 0.0001  # You can adjust the regularization parameter\n",
        "mlp_classifier = MLPClassifier(hidden_layer_sizes=hidden_layer_sizes, alpha=alpha, random_state=0)\n",
        "\n",
        "# Fit the model to your training data\n",
        "mlp_classifier.fit(X_train, y_train)\n",
        "\n",
        "# Calculate and print the time taken in milliseconds\n",
        "print(\"Trained model in %s ms\" % str((time.time() - starting_time) * 1000))\n"
      ]
    },
    {
      "cell_type": "code",
      "execution_count": null,
      "metadata": {
        "id": "yey73i20tXTQ"
      },
      "outputs": [],
      "source": [
        "train_acc = float(mlp_classifier.score(X_train, y_train)*100)\n",
        "print(\"----train accuracy score %s ----\" % train_acc)\n",
        "\n",
        "test_acc = float(mlp_classifier.score(X_test, y_test)*100)\n",
        "print(\"----test accuracy score %s ----\" % test_acc)"
      ]
    },
    {
      "cell_type": "code",
      "execution_count": null,
      "metadata": {
        "id": "cknkrM4ZiwPb"
      },
      "outputs": [],
      "source": [
        "#gradient boosting"
      ]
    },
    {
      "cell_type": "code",
      "execution_count": null,
      "metadata": {
        "id": "G_iX3GzgteKQ"
      },
      "outputs": [],
      "source": [
        "from sklearn.ensemble import GradientBoostingClassifier\n",
        "from sklearn.model_selection import train_test_split\n",
        "from sklearn.metrics import accuracy_score\n",
        "import time\n",
        "\n",
        "\n",
        "starting_time = time.time()\n",
        "\n",
        "# Create a GradientBoostingClassifier with the desired parameters\n",
        "n_estimators = 100  # Number of boosting stages (you can adjust this)\n",
        "learning_rate = 0.1  # Learning rate (you can adjust this)\n",
        "gb_classifier = GradientBoostingClassifier(n_estimators=n_estimators, learning_rate=learning_rate, random_state=0)\n",
        "\n",
        "# Fit the model to your training data\n",
        "gb_classifier.fit(X_train, y_train)\n",
        "\n",
        "# Make predictions on the test data\n",
        "y_pred = gb_classifier.predict(X_test)\n",
        "\n",
        "# Calculate and print the time taken in milliseconds\n",
        "print(\"Gradient Boosting classification completed in %s ms\" % str((time.time() - starting_time) * 1000))\n",
        "\n",
        "# Evaluate the model's accuracy\n",
        "accuracy = accuracy_score(y_test, y_pred)\n",
        "print(\"Accuracy: {:.2f}%\".format(accuracy * 100))\n"
      ]
    },
    {
      "cell_type": "code",
      "execution_count": null,
      "metadata": {
        "id": "ZGZ1zSrEgs64"
      },
      "outputs": [],
      "source": [
        "train_acc = float(gb_classifier.score(X_train, y_train)*100)\n",
        "print(\"----train accuracy score %s ----\" % train_acc)\n",
        "\n",
        "test_acc = float(gb_classifier.score(X_test, y_test)*100)\n",
        "print(\"----test accuracy score %s ----\" % test_acc)"
      ]
    },
    {
      "cell_type": "code",
      "execution_count": null,
      "metadata": {
        "id": "NkZs5ONJlswn"
      },
      "outputs": [],
      "source": [
        "#LSTM"
      ]
    },
    {
      "cell_type": "code",
      "execution_count": null,
      "metadata": {
        "id": "Wj6u_20PHxyp"
      },
      "outputs": [],
      "source": [
        "import glob\n",
        "import os\n",
        "import librosa\n",
        "import time\n",
        "import numpy as np\n",
        "import pandas as pd\n",
        "from sklearn.model_selection import train_test_split\n",
        "from sklearn.preprocessing import StandardScaler, LabelEncoder\n",
        "from keras.models import Sequential\n",
        "from keras.layers import LSTM, Dense, Dropout\n",
        "from keras.utils import to_categorical\n",
        "\n",
        "\n",
        "# Encode the labels\n",
        "le = LabelEncoder()\n",
        "y_train_encoded = le.fit_transform(y_train)\n",
        "y_test_encoded = le.transform(y_test)\n",
        "\n",
        "# Standardize the features\n",
        "scaler = StandardScaler()\n",
        "X_train_scaled = scaler.fit_transform(X_train)\n",
        "X_test_scaled = scaler.transform(X_test)\n",
        "\n",
        "# Reshape data for LSTM input\n",
        "X_train_lstm = X_train_scaled.reshape(X_train_scaled.shape[0], 1, X_train_scaled.shape[1])\n",
        "X_test_lstm = X_test_scaled.reshape(X_test_scaled.shape[0], 1, X_test_scaled.shape[1])\n",
        "\n",
        "# Build the LSTM model\n",
        "model = Sequential()\n",
        "model.add(LSTM(128, input_shape=(X_train_lstm.shape[1], X_train_lstm.shape[2])))\n",
        "model.add(Dropout(0.5))\n",
        "model.add(Dense(64, activation='relu'))\n",
        "model.add(Dropout(0.5))\n",
        "model.add(Dense(len(np.unique(y)), activation='softmax'))\n",
        "\n",
        "# Compile the model\n",
        "model.compile(optimizer='adam', loss='sparse_categorical_crossentropy', metrics=['accuracy'])\n",
        "\n",
        "# Train the model for more epochs\n",
        "\n",
        "model.fit(X_train_lstm, y_train_encoded, epochs=200, batch_size=15, validation_data=(X_test_lstm, y_test_encoded))\n",
        "\n",
        "# Evaluate the model\n",
        "\n",
        "accuracy = model.evaluate(X_test_lstm, y_test_encoded)[1]\n",
        "print(\"Test Accuracy: {:.2f}%\".format(accuracy * 100))"
      ]
    },
    {
      "cell_type": "code",
      "execution_count": null,
      "metadata": {
        "id": "WuEFgd1ia0X3"
      },
      "outputs": [],
      "source": [
        "train_accuracy = history.history['accuracy'][-1]  # Last epoch training accuracy\n",
        "val_accuracy = history.history['val_accuracy'][-1]  # Last epoch validation accuracy\n",
        "\n",
        "# Evaluate the model on the test set\n",
        "test_accuracy = model.evaluate(X_test_lstm, y_test_encoded)[1]\n",
        "\n",
        "# Print the final training and test accuracy\n",
        "print(\"Final Training Accuracy: {:.2f}%\".format(train_accuracy * 100))\n",
        "print(\"Test Accuracy: {:.2f}%\".format(test_accuracy * 100))"
      ]
    },
    {
      "cell_type": "code",
      "execution_count": null,
      "metadata": {
        "id": "4xwc7Et5yDHB"
      },
      "outputs": [],
      "source": [
        "\n",
        "# Extract training and validation accuracy from the history object\n",
        "train_accuracy = history.history['accuracy']\n",
        "val_accuracy = history.history['val_accuracy']\n",
        "\n",
        "# Evaluate the model on the test set\n",
        "test_accuracy = model.evaluate(X_test_lstm, y_test_encoded)[1]\n",
        "\n",
        "# Print the final test accuracy\n",
        "print(\"Test Accuracy: {:.2f}%\".format(test_accuracy * 100))\n",
        "\n",
        "# Plot training and validation accuracy over epochs\n",
        "import matplotlib.pyplot as plt\n",
        "\n",
        "epochs = range(1, len(train_accuracy) + 1)\n",
        "\n",
        "plt.plot(epochs, train_accuracy, 'b', label='Training Accuracy')\n",
        "plt.plot(epochs, val_accuracy, 'r', label='Validation Accuracy')\n",
        "plt.title('Training and Validation Accuracy')\n",
        "plt.xlabel('Epochs')\n",
        "plt.ylabel('Accuracy')\n",
        "plt.legend()\n",
        "plt.show()\n"
      ]
    },
    {
      "cell_type": "code",
      "execution_count": null,
      "metadata": {
        "id": "Ot522o1ClzUG"
      },
      "outputs": [],
      "source": [
        "#GRU"
      ]
    },
    {
      "cell_type": "code",
      "execution_count": null,
      "metadata": {
        "id": "Yq1jbJUkdtNQ"
      },
      "outputs": [],
      "source": [
        "import glob\n",
        "import os\n",
        "import librosa\n",
        "import time\n",
        "import numpy as np\n",
        "import pandas as pd\n",
        "from sklearn.model_selection import train_test_split\n",
        "from sklearn.preprocessing import StandardScaler, LabelEncoder\n",
        "from keras.models import Sequential\n",
        "from keras.layers import GRU, Dense, Dropout\n",
        "from keras.utils import to_categorical\n",
        "\n",
        "\n",
        "# Encode the labels\n",
        "le = LabelEncoder()\n",
        "y_encoded = le.fit_transform(y)\n",
        "y_onehot = to_categorical(y_encoded)\n",
        "\n",
        "# Standardize the features\n",
        "scaler = StandardScaler()\n",
        "X_scaled = scaler.fit_transform(X)\n",
        "\n",
        "# Reshape data for GRU input\n",
        "X_gru = X_scaled.reshape(X_scaled.shape[0], 1, X_scaled.shape[1])\n",
        "\n",
        "# Split the data into training and testing sets\n",
        "X_train, X_test, y_train, y_test = train_test_split(X_gru, y_onehot, test_size=0.2, random_state=42)\n",
        "\n",
        "# Build the GRU model\n",
        "model = Sequential()\n",
        "model.add(GRU(128, input_shape=(X_gru.shape[1], X_gru.shape[2])))\n",
        "model.add(Dropout(0.5))\n",
        "model.add(Dense(64, activation='relu'))\n",
        "model.add(Dropout(0.5))\n",
        "model.add(Dense(len(np.unique(y)), activation='softmax'))\n",
        "\n",
        "# Compile the model\n",
        "model.compile(optimizer='adam', loss='categorical_crossentropy', metrics=['accuracy'])\n",
        "\n",
        "# Train the model\n",
        "history = model.fit(X_train, y_train, epochs=200, batch_size=15, validation_split=0.1)\n",
        "\n",
        "# Evaluate the model on test data\n",
        "test_loss, test_accuracy = model.evaluate(X_test, y_test)\n",
        "print(f\"Test Accuracy: {test_accuracy * 100:.2f}%\")\n",
        "\n",
        "# Print the final training and test accuracy\n",
        "train_accuracy = history.history['accuracy'][-1]  # Last epoch training accuracy\n",
        "val_accuracy = history.history['val_accuracy'][-1]  # Last epoch validation accuracy\n",
        "print(\"Final Training Accuracy: {:.2f}%\".format(train_accuracy * 100))\n",
        "print(\"Final Validation Accuracy: {:.2f}%\".format(val_accuracy * 100))\n"
      ]
    },
    {
      "cell_type": "code",
      "execution_count": null,
      "metadata": {
        "id": "fKlezVYkyOT_"
      },
      "outputs": [],
      "source": [
        "# Evaluate the model on test data\n",
        "test_loss, test_accuracy = model.evaluate(X_test, y_test)\n",
        "print(f\"Test Accuracy: {test_accuracy * 100:.2f}%\")\n",
        "\n",
        "# Print the final training and test accuracy\n",
        "train_accuracy = history.history['accuracy'][-1]  # Last epoch training accuracy\n",
        "val_accuracy = history.history['val_accuracy'][-1]  # Last epoch validation accuracy\n",
        "print(\"Final Training Accuracy: {:.2f}%\".format(train_accuracy * 100))\n",
        "print(\"Final Validation Accuracy: {:.2f}%\".format(val_accuracy * 100))"
      ]
    },
    {
      "cell_type": "code",
      "execution_count": null,
      "metadata": {
        "id": "rtLFa1qXeu1A"
      },
      "outputs": [],
      "source": [
        "# Plot training and validation accuracy over epochs\n",
        "train_accuracy = history.history['accuracy']\n",
        "val_accuracy = history.history['val_accuracy']\n",
        "\n",
        "epochs = range(1, len(train_accuracy) + 1)\n",
        "\n",
        "plt.plot(epochs, train_accuracy, 'b', label='Training Accuracy')\n",
        "plt.plot(epochs, val_accuracy, 'r', label='Validation Accuracy')\n",
        "plt.title('Training and Validation Accuracy')\n",
        "plt.xlabel('Epochs')\n",
        "plt.ylabel('Accuracy')\n",
        "plt.legend()\n",
        "plt.show()"
      ]
    },
    {
      "cell_type": "code",
      "execution_count": null,
      "metadata": {
        "id": "CtglQ4O9kX0Y"
      },
      "outputs": [],
      "source": [
        "pip install wavio"
      ]
    },
    {
      "cell_type": "code",
      "execution_count": null,
      "metadata": {
        "id": "_wTkAP_fkYRo"
      },
      "outputs": [],
      "source": [
        "pip install scipy"
      ]
    },
    {
      "cell_type": "code",
      "execution_count": null,
      "metadata": {
        "id": "jCDyHOymkodQ"
      },
      "outputs": [],
      "source": [
        "!sudo apt-get install libportaudio2\n"
      ]
    },
    {
      "cell_type": "code",
      "execution_count": null,
      "metadata": {
        "id": "8QLJTSqMlGub"
      },
      "outputs": [],
      "source": [
        "!pip install sounddevice"
      ]
    },
    {
      "cell_type": "code",
      "execution_count": null,
      "metadata": {
        "id": "qN0HDP-8ka8C"
      },
      "outputs": [],
      "source": [
        "\n",
        "from scipy.io.wavfile import write\n",
        "import wavio as wv"
      ]
    },
    {
      "cell_type": "code",
      "execution_count": null,
      "metadata": {
        "id": "uhV83hhTk2Ud"
      },
      "outputs": [],
      "source": [
        "import sounddevice as sd"
      ]
    },
    {
      "cell_type": "code",
      "execution_count": null,
      "metadata": {
        "id": "A8EyWNRAkeA9"
      },
      "outputs": [],
      "source": [
        "# Sampling frequency\n",
        "freq = 44100\n",
        "\n",
        "# Recording duration\n",
        "duration = 5"
      ]
    },
    {
      "cell_type": "code",
      "execution_count": null,
      "metadata": {
        "id": "cf2flJM-ku1m"
      },
      "outputs": [],
      "source": [
        "\"\"\"import IPython.display as ipd\n",
        "import sounddevice as sd\n",
        "import soundfile as sf\n",
        "import librosa\n",
        "samplerate = 48000\n",
        "duration = 4 # seconds\n",
        "filename = 'quran.wav'\n",
        "print(\"start\")\n",
        "mydata = sd.rec(int(samplerate * duration), samplerate=samplerate,channels=1, blocking=True)\n",
        "print(\"end\")\n",
        "sd.wait()\n",
        "sf.write(filename, mydata, samplerate)\n",
        "#reading the voice commands\n",
        "samples, sample_rate = librosa.load(filename , sr = 16000)\n",
        "samples = librosa.resample(samples, sample_rate, 8000)\n",
        "ipd.Audio(samples,rate=8000)\"\"\""
      ]
    },
    {
      "cell_type": "code",
      "execution_count": null,
      "metadata": {
        "id": "Uf_ij4uRr4IM"
      },
      "outputs": [],
      "source": [
        "!apt-get install -y portaudio19-dev\n"
      ]
    },
    {
      "cell_type": "code",
      "execution_count": null,
      "metadata": {
        "id": "td2duxupzEPg"
      },
      "outputs": [],
      "source": [
        "!pip install sounddevice\n"
      ]
    },
    {
      "cell_type": "code",
      "execution_count": null,
      "metadata": {
        "id": "xTuggJkGzxCt"
      },
      "outputs": [],
      "source": [
        "!pip install pyaudio\n"
      ]
    },
    {
      "cell_type": "code",
      "execution_count": null,
      "metadata": {
        "id": "zdrR1ykqypZl"
      },
      "outputs": [],
      "source": [
        "\"\"\"import numpy as np\n",
        "import io\n",
        "import IPython.display as ipd\n",
        "import sounddevice as sd\n",
        "\n",
        "duration = 5  # You can change the duration as needed\n",
        "audio_data = sd.rec(int(duration * 44100), samplerate=44100, channels=2, blocking=True)\n",
        "ipd.Audio(audio_data, rate=44100)\"\"\"\n"
      ]
    },
    {
      "cell_type": "code",
      "execution_count": null,
      "metadata": {
        "id": "vauYHLaay55j"
      },
      "outputs": [],
      "source": []
    },
    {
      "cell_type": "code",
      "execution_count": null,
      "metadata": {
        "id": "VP1CF4XXSS__"
      },
      "outputs": [],
      "source": []
    },
    {
      "cell_type": "code",
      "execution_count": null,
      "metadata": {
        "id": "PBaxe4DuSTF8"
      },
      "outputs": [],
      "source": []
    },
    {
      "cell_type": "code",
      "execution_count": null,
      "metadata": {
        "id": "wPcSsO4aSTLO"
      },
      "outputs": [],
      "source": []
    },
    {
      "cell_type": "code",
      "execution_count": null,
      "metadata": {
        "id": "pAQ2ELtESTRn"
      },
      "outputs": [],
      "source": []
    },
    {
      "cell_type": "code",
      "execution_count": null,
      "metadata": {
        "id": "eH7cvcHtSTXB"
      },
      "outputs": [],
      "source": [
        "###AUDIO SENTIMENT ANALYSIS"
      ]
    },
    {
      "cell_type": "code",
      "execution_count": null,
      "metadata": {
        "id": "kKYkX6VjSTbZ"
      },
      "outputs": [],
      "source": [
        "import sys, os\n",
        "import numpy as np\n",
        "import pandas as pd\n",
        "import matplotlib.pyplot as plt\n",
        "import seaborn as sns\n",
        "sns.set_style('whitegrid')\n",
        "%matplotlib inline\n",
        "import warnings\n",
        "warnings.filterwarnings('ignore')\n",
        "import sklearn.metrics as skm\n",
        "import sklearn.model_selection as skms\n",
        "import sklearn.preprocessing as skp\n",
        "import random, os\n",
        "import librosa, IPython\n",
        "import librosa.display as lplt\n",
        "from skimage.io import imread\n",
        "seed = 12\n",
        "np.random.seed(seed)"
      ]
    },
    {
      "cell_type": "code",
      "execution_count": null,
      "metadata": {
        "id": "i3h4NVB3STpf"
      },
      "outputs": [],
      "source": [
        "trainPath = '/content/drive/MyDrive/sentiment classification data/TRAIN/'\n",
        "testPath = '/content/drive/MyDrive/sentiment classification data/TEST/'\n",
        "df_base = pd.read_csv('/content/drive/MyDrive/sentiment classification data/TRAIN.csv')\n",
        "df_base.head()"
      ]
    },
    {
      "cell_type": "code",
      "execution_count": null,
      "metadata": {
        "id": "KOSfpoV-f0c7"
      },
      "outputs": [],
      "source": [
        "print(\"Dataset has\",df_base.shape[0],\"samples\")\n",
        "print(\"Count of Positive and Negative samples\")\n",
        "df_base['Class'].value_counts().reset_index()"
      ]
    },
    {
      "cell_type": "code",
      "execution_count": null,
      "metadata": {
        "id": "2b2lxtX0f8wZ"
      },
      "outputs": [],
      "source": [
        "sample_rate = 44100\n",
        "def loadAudio(fp):\n",
        "    return librosa.load(fp, res_type='kaiser_fast', duration=2.5, offset=0.5, sr=sample_rate)"
      ]
    },
    {
      "cell_type": "code",
      "execution_count": null,
      "metadata": {
        "id": "cxj6MKCQgAzq"
      },
      "outputs": [],
      "source": [
        "def scanFeatures(path, avgFeat=0):\n",
        "    features = []\n",
        "    minFeat = sys.maxsize\n",
        "    maxFeat = 0\n",
        "    files = sorted(os.listdir(path))\n",
        "    print(\"Scanning\", path)\n",
        "\n",
        "    for i, fp in enumerate(files):\n",
        "        X, sr = loadAudio(os.path.join(path, fp))\n",
        "\n",
        "        f = librosa.feature.melspectrogram(y=X, sr=sample_rate)\n",
        "        f = librosa.amplitude_to_db(f, ref=np.max)\n",
        "\n",
        "        shapeY = f.shape[1]\n",
        "        if shapeY < minFeat:\n",
        "            minFeat = shapeY\n",
        "\n",
        "        if shapeY > maxFeat:\n",
        "            maxFeat = shapeY\n",
        "\n",
        "        features.append(f)\n",
        "    if avgFeat == 0:\n",
        "        avgFeat = int((minFeat+maxFeat)/2)\n",
        "    feat_mat = np.zeros((len(files), f.shape[0], avgFeat))\n",
        "    for i, x in enumerate(features):\n",
        "        xWidth = min(x.shape[1],avgFeat)\n",
        "        feat_mat[i, :, :xWidth] = x[:,:xWidth]\n",
        "    return feat_mat, files"
      ]
    },
    {
      "cell_type": "code",
      "execution_count": null,
      "metadata": {
        "id": "bfT8NK0PgE3s"
      },
      "outputs": [],
      "source": [
        "f_dim = 128\n",
        "train_data, train_files = scanFeatures(trainPath, f_dim)\n",
        "test_data, test_files = scanFeatures(testPath, train_data.shape[1])\n",
        "print(train_data.shape)\n",
        "print(test_data.shape)"
      ]
    },
    {
      "cell_type": "code",
      "execution_count": null,
      "metadata": {
        "id": "thvkk-IygGck"
      },
      "outputs": [],
      "source": [
        "def saveImg(f, fp):\n",
        "    f = np.flip(f, axis=0)\n",
        "    plt.figure()\n",
        "    plt.axis('off')\n",
        "    plt.imsave(fp, f, format='png')\n",
        "    plt.clf()"
      ]
    },
    {
      "cell_type": "code",
      "execution_count": null,
      "metadata": {
        "id": "HeoFgXPjgQD_"
      },
      "outputs": [],
      "source": [
        "###SAVING FEATURE TO IMAGE"
      ]
    },
    {
      "cell_type": "code",
      "execution_count": null,
      "metadata": {
        "id": "b4pGlPR1gLQa"
      },
      "outputs": [],
      "source": [
        "def saveFeatureToImage(path, saveDir, avgFeat=0):\n",
        "    global sample_rate\n",
        "    files = sorted(os.listdir(path))\n",
        "    print(\"Scanning\", path)\n",
        "\n",
        "    for i, fp in enumerate(files):\n",
        "        X, sr = loadAudio(os.path.join(path, fp))\n",
        "\n",
        "        f = librosa.feature.melspectrogram(y=X, sr=sample_rate)\n",
        "        f = librosa.amplitude_to_db(f, ref=np.max)\n",
        "\n",
        "        img = np.zeros((f.shape[0], avgFeat))\n",
        "        xWidth = min(f.shape[1],avgFeat)\n",
        "        img[:, :xWidth] = f[:,:xWidth]\n",
        "        fname = os.path.join(saveDir, fp.split('.')[0] + '.png')\n",
        "        saveImg(img, fname)"
      ]
    },
    {
      "cell_type": "code",
      "execution_count": null,
      "metadata": {
        "id": "Cy-XdYH8gNXA"
      },
      "outputs": [],
      "source": [
        "f_dim = 128\n",
        "train_img_dir = './train_images'\n",
        "test_img_dir = './test_images'\n",
        "if not os.path.exists(train_img_dir):\n",
        "    os.mkdir(train_img_dir)\n",
        "    saveFeatureToImage(trainPath, train_img_dir, f_dim)\n",
        "if not os.path.exists(test_img_dir):\n",
        "    os.mkdir(test_img_dir)\n",
        "    saveFeatureToImage(testPath, test_img_dir, train_data.shape[1])"
      ]
    },
    {
      "cell_type": "code",
      "execution_count": null,
      "metadata": {
        "id": "bEusR13JgU1B"
      },
      "outputs": [],
      "source": [
        "def scanImgFeatures(path):\n",
        "    features = []\n",
        "    files = sorted(os.listdir(path))\n",
        "    for x in files:\n",
        "        fp = os.path.join(path, x)\n",
        "        img = imread(fp)[:,:,:3]/255.0\n",
        "        features.append(img)\n",
        "    return np.array(features), files"
      ]
    },
    {
      "cell_type": "code",
      "execution_count": null,
      "metadata": {
        "id": "OdSh63HCgWhi"
      },
      "outputs": [],
      "source": [
        "if os.path.exists(train_img_dir):\n",
        "    train_data_img, train_files_img = scanImgFeatures(train_img_dir)\n",
        "if os.path.exists(test_img_dir):\n",
        "    test_data_img, test_files_img = scanImgFeatures(test_img_dir)\n",
        "    plt.imshow(test_data_img[0])\n",
        "    plt.show()"
      ]
    },
    {
      "cell_type": "code",
      "execution_count": null,
      "metadata": {
        "id": "1pA69mB0gYLl"
      },
      "outputs": [],
      "source": [
        "def getPathLabels(p):\n",
        "    return [df_base[df_base['Filename'] == x].iloc[0,1] for x in p]\n"
      ]
    },
    {
      "cell_type": "code",
      "execution_count": null,
      "metadata": {
        "id": "gyk1Dt4bgdrr"
      },
      "outputs": [],
      "source": [
        "train_labels = getPathLabels(train_files)"
      ]
    },
    {
      "cell_type": "code",
      "execution_count": null,
      "metadata": {
        "id": "3YbOSsXKgfsD"
      },
      "outputs": [],
      "source": [
        "audio_fp = '/content/drive/MyDrive/sentiment classification data/TRAIN/10.wav'\n",
        "audio_data, sr = loadAudio(audio_fp)\n",
        "audio_data, _ = librosa.effects.trim(audio_data)"
      ]
    },
    {
      "cell_type": "code",
      "execution_count": null,
      "metadata": {
        "id": "9u8K0j9sghmJ"
      },
      "outputs": [],
      "source": [
        "# play sample file\n",
        "IPython.display.Audio(audio_data, rate=sr)\n"
      ]
    },
    {
      "cell_type": "code",
      "execution_count": null,
      "metadata": {
        "id": "XQWm7ls1gsd0"
      },
      "outputs": [],
      "source": [
        "plt.figure(figsize=(15,5))\n",
        "lplt.waveplot(audio_data)\n",
        "plt.show()"
      ]
    },
    {
      "cell_type": "code",
      "execution_count": null,
      "metadata": {
        "id": "sybpVStAguR1"
      },
      "outputs": [],
      "source": [
        " #Default FFT window size\n",
        "n_fft = 2048 # window size\n",
        "hop_length = 512 # window hop length for STFT\n",
        "\n",
        "stft = librosa.stft(audio_data, n_fft=n_fft, hop_length=hop_length)\n",
        "stft_db = librosa.amplitude_to_db(stft, ref=np.max)\n",
        "\n",
        "plt.figure(figsize=(12,4))\n",
        "lplt.specshow(stft, sr=sr, x_axis='time', y_axis='hz')\n",
        "plt.colorbar()\n",
        "plt.title(\"Spectrogram with amplitude\")\n",
        "plt.show()\n",
        "\n",
        "plt.figure(figsize=(12,4))\n",
        "lplt.specshow(stft_db, sr=sr, x_axis='time', y_axis='log', cmap='cool')\n",
        "plt.colorbar()\n",
        "plt.title(\"Spectrogram with decibel log\")\n",
        "plt.show()"
      ]
    },
    {
      "cell_type": "code",
      "execution_count": null,
      "metadata": {
        "id": "RM_h7VukgzZJ"
      },
      "outputs": [],
      "source": [
        "###DATA PREPARATION"
      ]
    },
    {
      "cell_type": "code",
      "execution_count": null,
      "metadata": {
        "id": "A5L9ohXSg49X"
      },
      "outputs": [],
      "source": [
        "# map labels to index\n",
        "label_index = dict()\n",
        "index_label = dict()\n",
        "for i, x in enumerate(df_base['Class'].unique()):\n",
        "    label_index[x] = i\n",
        "    index_label[i] = x\n",
        "print(label_index)\n",
        "print(index_label)"
      ]
    },
    {
      "cell_type": "code",
      "execution_count": null,
      "metadata": {
        "id": "QDG6quwOho4j"
      },
      "outputs": [],
      "source": [
        "# update labels in df to index\n",
        "train_labels_idx = [label_index[l] for l in train_labels]\n",
        "train_labels_idx[::10]"
      ]
    },
    {
      "cell_type": "code",
      "execution_count": null,
      "metadata": {
        "id": "sAXL6a-ehqpZ"
      },
      "outputs": [],
      "source": [
        "df_shuffle = df_base.sample(frac=1, random_state=seed).reset_index(drop=True)\n"
      ]
    },
    {
      "cell_type": "code",
      "execution_count": null,
      "metadata": {
        "id": "l2aT9Y0jhsvM"
      },
      "outputs": [],
      "source": [
        "# remove irrelevant columns\n",
        "df_shuffle.drop(['Filename'], axis=1, inplace=True)\n",
        "df_y = df_shuffle.pop('Class')\n",
        "\n",
        "# split into train dev and test\n",
        "y_train, y_test = skms.train_test_split(df_y, train_size=0.8, random_state=seed, stratify=df_y)"
      ]
    },
    {
      "cell_type": "code",
      "execution_count": null,
      "metadata": {
        "id": "nrzyAdyBhuVL"
      },
      "outputs": [],
      "source": [
        "print(f\"Train set has {y_train.shape[0]} records out of {len(df_shuffle)} which is {round(y_train.shape[0]/len(df_shuffle)*100)}%\")\n",
        "print(f\"Test set has {y_test.shape[0]} records out of {len(df_shuffle)} which is {round(y_test.shape[0]/len(df_shuffle)*100)}%\")\n"
      ]
    },
    {
      "cell_type": "code",
      "execution_count": null,
      "metadata": {
        "id": "1-b3jdmmhyin"
      },
      "outputs": [],
      "source": [
        "# stratified split check\n",
        "print(y_train.value_counts())\n",
        "print(y_test.value_counts())"
      ]
    },
    {
      "cell_type": "code",
      "execution_count": null,
      "metadata": {
        "id": "3sI5JUF8h0JS"
      },
      "outputs": [],
      "source": [
        "# divide train_data into X_train and X_test\n",
        "X_train = train_data[y_train.index.tolist(), :, :]\n",
        "X_test = train_data[y_test.index.tolist(), :, :]\n",
        "X_test.shape"
      ]
    },
    {
      "cell_type": "code",
      "execution_count": null,
      "metadata": {
        "id": "gK2gkhMdh7-R"
      },
      "outputs": [],
      "source": [
        "y_train = np.array([train_labels_idx[x] for x in y_train.index.tolist()])\n",
        "y_test = np.array([train_labels_idx[x] for x in y_test.index.tolist()])\n",
        "y_train[::10]"
      ]
    },
    {
      "cell_type": "code",
      "execution_count": null,
      "metadata": {
        "id": "E1auRE94h_Je"
      },
      "outputs": [],
      "source": [
        "# scale features\n",
        "scaler = skp.MinMaxScaler()\n",
        "X_train = scaler.fit_transform(X_train.reshape(-1, X_train.shape[-1])).reshape(X_train.shape)\n",
        "X_test = scaler.transform(X_test.reshape(-1, X_test.shape[-1])).reshape(X_test.shape)\n",
        "test_data = scaler.transform(test_data.reshape(-1, test_data.shape[-1])).reshape(test_data.shape)\n",
        "print(X_train.shape)"
      ]
    },
    {
      "cell_type": "code",
      "execution_count": null,
      "metadata": {
        "id": "dxliIzGuiCGZ"
      },
      "outputs": [],
      "source": [
        "# Model Building"
      ]
    },
    {
      "cell_type": "code",
      "execution_count": null,
      "metadata": {
        "id": "gnCEqgqAiLdH"
      },
      "outputs": [],
      "source": [
        "import tensorflow as tf\n",
        "print(\"TF version:-\", tf.__version__)\n",
        "import keras as k\n",
        "from keras import backend as K\n",
        "tf.random.set_seed(seed)\n"
      ]
    },
    {
      "cell_type": "code",
      "execution_count": null,
      "metadata": {
        "id": "k8dh0eFciM8r"
      },
      "outputs": [],
      "source": [
        "bestModelPath = './best_model.hdf5'\n",
        "ACCURACY_THRESHOLD = 0.98\n",
        "\n",
        "class myCallback(k.callbacks.Callback):\n",
        "    def on_epoch_end(self, epoch, logs={}):\n",
        "        if(logs.get('val_accuracy') > ACCURACY_THRESHOLD):\n",
        "            print(\"\\n\\nStopping training as we have reached %2.2f%% accuracy!\" %(ACCURACY_THRESHOLD*100))\n",
        "            self.model.stop_training = True\n",
        "\n",
        "acc_callback = myCallback()\n",
        "\n",
        "\n",
        "def trainModel(model, epochs, optimizer, vb=1):\n",
        "    cbs = [#k.callbacks.ReduceLROnPlateau(patience=5, verbose=1),\n",
        "           k.callbacks.ModelCheckpoint(filepath=bestModelPath, monitor='val_loss', verbose=1, save_best_only=True)]\n",
        "    batch_size = 64\n",
        "    callback = myCallback()\n",
        "    model.compile(optimizer=optimizer,\n",
        "                  loss='sparse_categorical_crossentropy',\n",
        "                  metrics='accuracy'\n",
        "    )\n",
        "    return model.fit(X_train, y_train,\n",
        "#                      validation_data=(X_test, y_test),\n",
        "                     epochs=epochs, verbose=vb,\n",
        "                     validation_split=0.2,\n",
        "                     batch_size=batch_size, callbacks=cbs)\n",
        "\n",
        "def plotHistory(history):\n",
        "    print(\"Max. Validation Accuracy\",max(history.history[\"val_accuracy\"]))\n",
        "    pd.DataFrame(history.history).plot(figsize=(12,6))\n",
        "    plt.show()"
      ]
    },
    {
      "cell_type": "code",
      "execution_count": null,
      "metadata": {
        "id": "bx5pPI8giPyp"
      },
      "outputs": [],
      "source": [
        "model_1 = k.models.Sequential([\n",
        "    k.layers.Conv1D(256, 8, padding='same', activation='relu', input_shape=(X_train.shape[1], X_train.shape[2])),\n",
        "#     k.layers.Conv1D(256, 8, padding='same', activation='relu'),\n",
        "    k.layers.BatchNormalization(),\n",
        "    k.layers.Dropout(0.2),\n",
        "    k.layers.MaxPooling1D(pool_size=(8)),\n",
        "    k.layers.Conv1D(128, 8, padding='same', activation='relu'),\n",
        "#     k.layers.Conv1D(128, 8, padding='same', activation='relu'),\n",
        "#     k.layers.Conv1D(128, 8, padding='same', activation='relu'),\n",
        "    k.layers.BatchNormalization(),\n",
        "    k.layers.Dropout(0.2),\n",
        "    k.layers.MaxPooling1D(pool_size=(5)),\n",
        "#     k.layers.Conv1D(64, 8, padding='same', activation='relu'),\n",
        "    k.layers.Conv1D(64, 8, padding='same', activation='relu'),\n",
        "    k.layers.BatchNormalization(),\n",
        "    k.layers.Flatten(),\n",
        "#     k.layers.Dense(64, activation='relu'),\n",
        "    k.layers.Dense(len(index_label), activation='softmax'),\n",
        "])\n",
        "print(model_1.summary())\n",
        "model_1_history = trainModel(model=model_1, epochs=50, optimizer='adam', vb=0)"
      ]
    },
    {
      "cell_type": "code",
      "execution_count": null,
      "metadata": {
        "id": "A2daqgJliSVo"
      },
      "outputs": [],
      "source": [
        "plotHistory(model_1_history)"
      ]
    },
    {
      "cell_type": "code",
      "execution_count": null,
      "metadata": {
        "id": "38-wT4hsiVhf"
      },
      "outputs": [],
      "source": [
        "# evaluation\n",
        "test_loss, test_acc  = k.models.load_model(bestModelPath).evaluate(X_test, y_test, batch_size=128)\n",
        "print(\"The test Loss is :\",test_loss)\n",
        "print(\"The test Accuracy is :\",test_acc*100)"
      ]
    },
    {
      "cell_type": "code",
      "execution_count": null,
      "metadata": {
        "id": "WSIDwLmHiXAy"
      },
      "outputs": [],
      "source": [
        "model_2 = k.models.Sequential([\n",
        "    k.layers.Conv1D(256, 5, activation='relu', input_shape=(X_train.shape[1], X_train.shape[2])),\n",
        "    k.layers.BatchNormalization(),\n",
        "    k.layers.Dropout(0.3),\n",
        "    k.layers.MaxPooling1D(pool_size=(2)),\n",
        "    k.layers.Conv1D(128, 3, activation='relu'),\n",
        "    k.layers.BatchNormalization(),\n",
        "    k.layers.Dropout(0.3),\n",
        "    k.layers.MaxPooling1D(pool_size=(3)),\n",
        "    k.layers.Conv1D(64, 3, activation='relu'),\n",
        "    k.layers.BatchNormalization(),\n",
        "    k.layers.Flatten(),\n",
        "    k.layers.Dense(32, activation='relu'),\n",
        "    k.layers.Dense(len(index_label), activation='softmax'),\n",
        "])\n",
        "print(model_2.summary())\n",
        "model_2_history = trainModel(model=model_2, epochs=100, optimizer='adam', vb=0)\n"
      ]
    },
    {
      "cell_type": "code",
      "execution_count": null,
      "metadata": {
        "id": "aRGpA_RBiZCJ"
      },
      "outputs": [],
      "source": [
        "plotHistory(model_2_history)"
      ]
    },
    {
      "cell_type": "code",
      "execution_count": null,
      "metadata": {
        "id": "XB4mPe9ajwnT"
      },
      "outputs": [],
      "source": [
        "# evaluation\n",
        "test_loss, test_acc  = k.models.load_model(bestModelPath).evaluate(X_test, y_test, batch_size=128)\n",
        "print(\"The test Loss is :\",test_loss)\n",
        "print(\"The test Accuracy is :\",test_acc*100)\n"
      ]
    },
    {
      "cell_type": "code",
      "execution_count": null,
      "metadata": {
        "id": "ePMkRuPWj0TT"
      },
      "outputs": [],
      "source": [
        "model_3 = k.models.Sequential([\n",
        "    k.layers.Bidirectional(k.layers.LSTM(256, return_sequences=True), input_shape=(X_train.shape[1], X_train.shape[2])),\n",
        "\n",
        "    k.layers.Bidirectional(k.layers.LSTM(128, return_sequences=False)),\n",
        "\n",
        "    k.layers.Dense(64, activation='relu'),\n",
        "    k.layers.Dropout(0.2),\n",
        "    k.layers.Dense(64, activation='relu'),\n",
        "    k.layers.Dropout(0.2),\n",
        "    k.layers.Dense(32, activation='relu'),\n",
        "    k.layers.Dense(len(index_label), activation='softmax'),\n",
        "])\n",
        "print(model_3.summary())\n",
        "model_3_history = trainModel(model=model_3, epochs=100, optimizer='rmsprop', vb=0)"
      ]
    },
    {
      "cell_type": "code",
      "execution_count": null,
      "metadata": {
        "id": "YkM_u3slj2_R"
      },
      "outputs": [],
      "source": [
        "plotHistory(model_3_history)"
      ]
    },
    {
      "cell_type": "code",
      "execution_count": null,
      "metadata": {
        "id": "K0Yj1vfRkBen"
      },
      "outputs": [],
      "source": [
        "# evaluation\n",
        "test_loss, test_acc  = k.models.load_model(bestModelPath).evaluate(X_test, y_test, batch_size=128)\n",
        "print(\"The test Loss is :\",test_loss)\n",
        "print(\"The test Accuracy is :\",test_acc*100)\n"
      ]
    },
    {
      "cell_type": "code",
      "execution_count": null,
      "metadata": {
        "id": "MSrMIqB_kIIQ"
      },
      "outputs": [],
      "source": [
        "# make features 3D with last dim as 1 for 1DConv\n",
        "X_train = np.expand_dims(X_train, axis=3)\n",
        "X_test = np.expand_dims(X_test, axis=3)\n",
        "X_train.shape"
      ]
    },
    {
      "cell_type": "code",
      "execution_count": null,
      "metadata": {
        "id": "tw6YNZhmkKAI"
      },
      "outputs": [],
      "source": [
        "model_4 = k.models.Sequential([\n",
        "    k.layers.Conv2D(256, (5,5), activation='relu', input_shape=(X_train.shape[1], X_train.shape[2], 1)),\n",
        "    k.layers.BatchNormalization(),\n",
        "    k.layers.MaxPooling2D(pool_size=(2)),\n",
        "    k.layers.Dropout(0.3),\n",
        "    k.layers.Conv2D(128, (3,3), activation='relu'),\n",
        "    k.layers.BatchNormalization(),\n",
        "    k.layers.MaxPooling2D(pool_size=(2)),\n",
        "    k.layers.Dropout(0.3),\n",
        "    k.layers.Conv2D(64, (3,3), padding='valid', activation='relu'),\n",
        "    k.layers.BatchNormalization(),\n",
        "    k.layers.Flatten(),\n",
        "    k.layers.Dense(64, activation='relu'),\n",
        "    k.layers.Dense(len(index_label), activation='softmax'),\n",
        "\n",
        "])\n",
        "print(model_4.summary())\n",
        "model_4_history = trainModel(model=model_4, epochs=50, optimizer='adam', vb=0)"
      ]
    },
    {
      "cell_type": "code",
      "execution_count": null,
      "metadata": {
        "id": "B3Amj9zGkMrq"
      },
      "outputs": [],
      "source": [
        "plotHistory(model_4_history)"
      ]
    },
    {
      "cell_type": "code",
      "execution_count": null,
      "metadata": {
        "id": "9z5r04tPkPca"
      },
      "outputs": [],
      "source": [
        "# evaluation\n",
        "test_loss, test_acc  = k.models.load_model(bestModelPath).evaluate(X_test, y_test, batch_size=128)\n",
        "print(\"The test Loss is :\",test_loss)\n",
        "print(\"The test Accuracy is :\",test_acc*100)"
      ]
    },
    {
      "cell_type": "code",
      "execution_count": null,
      "metadata": {
        "id": "1xZj3bH9kRYZ"
      },
      "outputs": [],
      "source": [
        "inputShape = (X_train.shape[1], X_train.shape[2], 1)\n",
        "model_5 = k.models.Sequential([\n",
        "    k.layers.TimeDistributed(k.layers.Conv1D(256, 5), input_shape=inputShape),\n",
        "    k.layers.TimeDistributed(k.layers.BatchNormalization()),\n",
        "    k.layers.TimeDistributed(k.layers.MaxPooling1D((2))),\n",
        "    k.layers.TimeDistributed(k.layers.Dropout(0.3)),\n",
        "\n",
        "    k.layers.TimeDistributed(k.layers.Conv1D(128, 3), input_shape=inputShape),\n",
        "    k.layers.TimeDistributed(k.layers.BatchNormalization()),\n",
        "    k.layers.TimeDistributed(k.layers.MaxPooling1D((2))),\n",
        "    k.layers.TimeDistributed(k.layers.Dropout(0.3)),\n",
        "    k.layers.TimeDistributed(k.layers.Flatten())\n",
        "\n",
        "], name=\"conv_3d7\")\n",
        "\n",
        "model_5.add(k.layers.Bidirectional(k.layers.LSTM(256, return_sequences=True)))\n",
        "model_5.add(k.layers.Dropout(0.3))\n",
        "\n",
        "model_5.add(k.layers.Bidirectional(k.layers.LSTM(128)))\n",
        "model_5.add(k.layers.Dropout(0.3))\n",
        "\n",
        "model_5.add(k.layers.Dense(64, activation='relu'))\n",
        "model_5.add(k.layers.Dropout(0.3))\n",
        "\n",
        "model_5.add(k.layers.Dense(len(index_label), activation='softmax'))\n",
        "\n",
        "print(model_5.summary())\n",
        "model_5_history = trainModel(model=model_5, epochs=100, optimizer='adam', vb=0)"
      ]
    },
    {
      "cell_type": "code",
      "execution_count": null,
      "metadata": {
        "id": "-K8XpG3tkYRP"
      },
      "outputs": [],
      "source": [
        "plotHistory(model_5_history)"
      ]
    },
    {
      "cell_type": "code",
      "execution_count": null,
      "metadata": {
        "id": "eA8jN-GBkcS0"
      },
      "outputs": [],
      "source": [
        "# evaluation\n",
        "test_loss, test_acc  = k.models.load_model(bestModelPath).evaluate(X_test, y_test, batch_size=128)\n",
        "print(\"The test Loss is :\",test_loss)\n",
        "print(\"The test Accuracy is :\",test_acc*100)"
      ]
    },
    {
      "cell_type": "code",
      "execution_count": null,
      "metadata": {
        "id": "gJ5tMql3keBb"
      },
      "outputs": [],
      "source": [
        "#Model using Image Data"
      ]
    },
    {
      "cell_type": "code",
      "execution_count": null,
      "metadata": {
        "id": "48fK2aIhkg9k"
      },
      "outputs": [],
      "source": [
        "modelPath = './best_model.hdf5'\n",
        "ACCURACY_THRESHOLD = 0.95\n",
        "\n",
        "class myCallback(k.callbacks.Callback):\n",
        "    def on_epoch_end(self, epoch, logs={}):\n",
        "        if(logs.get('val_accuracy') > ACCURACY_THRESHOLD):\n",
        "            print(\"\\n\\nStopping training as we have reached %2.2f%% accuracy!\" %(ACCURACY_THRESHOLD*100))\n",
        "            self.model.stop_training = True\n",
        "\n",
        "acc_callback = myCallback()\n",
        "\n",
        "cbs = [#k.callbacks.ReduceLROnPlateau(patience=3, verbose=1),\n",
        "       k.callbacks.ModelCheckpoint(filepath=modelPath, monitor='val_loss', verbose=1, save_best_only=True)]\n",
        "\n",
        "def trainImgModel(model, epochs, optimizer, vb=1):\n",
        "    batch_size = 64\n",
        "    callback = myCallback()\n",
        "    model.compile(optimizer=optimizer,\n",
        "                  loss='sparse_categorical_crossentropy',\n",
        "                  metrics='accuracy'\n",
        "    )\n",
        "    return model.fit(X_train_img, y_train,\n",
        "                     validation_data=(X_test_img, y_test), epochs=epochs, verbose=vb,\n",
        "                     batch_size=batch_size, callbacks=cbs)\n",
        "\n",
        "def plotHistory(history):\n",
        "    print(\"Max. Validation Accuracy\",max(history.history[\"val_accuracy\"]))\n",
        "    pd.DataFrame(history.history).plot(figsize=(12,6))\n",
        "    plt.show()\n"
      ]
    },
    {
      "cell_type": "code",
      "execution_count": null,
      "metadata": {
        "id": "L98VrvUPklq2"
      },
      "outputs": [],
      "source": [
        "model_6 = k.models.Sequential([\n",
        "    k.layers.Conv2D(256, 3, activation='relu', input_shape=(128, 128, 3)),\n",
        "    k.layers.BatchNormalization(),\n",
        "    k.layers.MaxPooling2D(pool_size=(2)),\n",
        "    k.layers.Dropout(0.2),\n",
        "    k.layers.Conv2D(128, 3, activation='relu'),\n",
        "    k.layers.BatchNormalization(),\n",
        "    k.layers.MaxPooling2D(pool_size=(2)),\n",
        "    k.layers.Dropout(0.2),\n",
        "    k.layers.Conv2D(64, 3, padding='same', activation='relu'),\n",
        "    k.layers.BatchNormalization(),\n",
        "    k.layers.Flatten(),\n",
        "    k.layers.Dense(64, activation='relu'),\n",
        "    k.layers.Dense(len(index_label), activation='softmax'),\n",
        "\n",
        "])\n",
        "print(model_6.summary())\n",
        "model_6_history = trainImgModel(model=model_6, epochs=100, optimizer='rmsprop', vb=0)"
      ]
    },
    {
      "cell_type": "code",
      "execution_count": null,
      "metadata": {
        "id": "5JoR0Wp0kq7F"
      },
      "outputs": [],
      "source": [
        "plotHistory(model_6_history)"
      ]
    },
    {
      "cell_type": "code",
      "execution_count": null,
      "metadata": {
        "id": "kzxJF2xikufE"
      },
      "outputs": [],
      "source": [
        "# model evaluation\n",
        "test_loss, test_acc  = k.models.load_model(bestModelPath).evaluate(X_test_img, y_test, batch_size=128)\n",
        "print(\"The test Loss is :\",test_loss)\n",
        "print(\"The test Accuracy is :\",test_acc*1"
      ]
    },
    {
      "cell_type": "code",
      "execution_count": null,
      "metadata": {
        "id": "LG67QpoCkwnK"
      },
      "outputs": [],
      "source": []
    },
    {
      "cell_type": "code",
      "execution_count": null,
      "metadata": {
        "id": "hdf2XKIfkyG3"
      },
      "outputs": [],
      "source": []
    },
    {
      "cell_type": "code",
      "execution_count": null,
      "metadata": {
        "id": "oL16PJSgkzsv"
      },
      "outputs": [],
      "source": []
    }
  ],
  "metadata": {
    "colab": {
      "provenance": []
    },
    "kernelspec": {
      "display_name": "Python 3",
      "name": "python3"
    },
    "language_info": {
      "name": "python"
    }
  },
  "nbformat": 4,
  "nbformat_minor": 0
}